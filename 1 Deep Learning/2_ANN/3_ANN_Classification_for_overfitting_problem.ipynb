{
 "cells": [
  {
   "cell_type": "code",
   "execution_count": 2,
   "id": "60115b3e",
   "metadata": {},
   "outputs": [
    {
     "name": "stdout",
     "output_type": "stream",
     "text": [
      "WARNING:tensorflow:From C:\\Users\\suraj\\anaconda3\\lib\\site-packages\\keras\\src\\losses.py:2976: The name tf.losses.sparse_softmax_cross_entropy is deprecated. Please use tf.compat.v1.losses.sparse_softmax_cross_entropy instead.\n",
      "\n"
     ]
    }
   ],
   "source": [
    "import pandas as pd\n",
    "import numpy as np\n",
    "from keras .models import Sequential \n",
    "from keras.layers import Dense\n",
    "from keras.utils import to_categorical"
   ]
  },
  {
   "cell_type": "code",
   "execution_count": 3,
   "id": "81ad7f55",
   "metadata": {},
   "outputs": [],
   "source": [
    "#loading the dataset\n",
    "train =pd.read_csv(\"dataset/train_sample.csv\")\n",
    "test=pd.read_csv(\"dataset/test_sample.csv\")"
   ]
  },
  {
   "cell_type": "code",
   "execution_count": 4,
   "id": "e0eecbeb",
   "metadata": {},
   "outputs": [],
   "source": [
    "#once we uploading the data which is having the diffenrent value of pixcels .these values \n",
    "#from 0 to 2555 , 255 value may influnce 0 value, hence we will have to normal\n",
    "#although value of pixcels are in integer but after after normalizaytion it will float\n",
    "X_train=train.iloc[:,1:].values.astype(\"float32\")\n",
    "X_test=test.iloc[:,1:].values.astype(\"float32\")\n",
    "y_train=train.label.values.astype(\"float32\")\n",
    "y_test=test.label.values.astype(\"float32\")"
   ]
  },
  {
   "cell_type": "code",
   "execution_count": 9,
   "id": "51f80794",
   "metadata": {},
   "outputs": [
    {
     "data": {
      "text/plain": [
       "array([0., 0., 0., ..., 9., 9., 9.], dtype=float32)"
      ]
     },
     "execution_count": 9,
     "metadata": {},
     "output_type": "execute_result"
    }
   ],
   "source": [
    "y_train"
   ]
  },
  {
   "cell_type": "code",
   "execution_count": 10,
   "id": "b60d8810",
   "metadata": {},
   "outputs": [
    {
     "data": {
      "text/plain": [
       "(5000, 784)"
      ]
     },
     "execution_count": 10,
     "metadata": {},
     "output_type": "execute_result"
    }
   ],
   "source": [
    "X_train.shape\n"
   ]
  },
  {
   "cell_type": "code",
   "execution_count": 11,
   "id": "b4acb9dc",
   "metadata": {},
   "outputs": [
    {
     "data": {
      "text/plain": [
       "(1000, 784)"
      ]
     },
     "execution_count": 11,
     "metadata": {},
     "output_type": "execute_result"
    }
   ],
   "source": [
    "X_test.shape\n"
   ]
  },
  {
   "cell_type": "code",
   "execution_count": 12,
   "id": "ba982c6d",
   "metadata": {},
   "outputs": [
    {
     "data": {
      "text/plain": [
       "(5000,)"
      ]
     },
     "execution_count": 12,
     "metadata": {},
     "output_type": "execute_result"
    }
   ],
   "source": [
    "y_train.shape\n"
   ]
  },
  {
   "cell_type": "code",
   "execution_count": 13,
   "id": "6f9b66b6",
   "metadata": {},
   "outputs": [
    {
     "data": {
      "text/plain": [
       "(1000,)"
      ]
     },
     "execution_count": 13,
     "metadata": {},
     "output_type": "execute_result"
    }
   ],
   "source": [
    "y_test.shape"
   ]
  },
  {
   "cell_type": "code",
   "execution_count": 14,
   "id": "62763594",
   "metadata": {},
   "outputs": [],
   "source": [
    "X_train=X_train/255\n",
    "X_test=X_test/255\n",
    "#output will be 0 to 9 but it is non numeric we will convert in 1 hot encoding\n",
    "y_train=to_categorical(y_train)\n",
    "y_test=to_categorical(y_test)"
   ]
  },
  {
   "cell_type": "code",
   "execution_count": 22,
   "id": "53105926",
   "metadata": {},
   "outputs": [
    {
     "data": {
      "text/plain": [
       "(1000, 10)"
      ]
     },
     "execution_count": 22,
     "metadata": {},
     "output_type": "execute_result"
    }
   ],
   "source": [
    "#here you can take out put layer as 10 as charatesistib are 0 to 9 another way\n",
    "#y=test.shape() will give 1000, 10 we can take y_test.shape[1] which sis equivalent is 10  \n",
    "\n",
    "num_of_classes=y_test.shape[1]\n",
    "X_train.shape\n",
    "y_train.shape\n",
    "X_test.shape\n",
    "y_test.shape"
   ]
  },
  {
   "cell_type": "code",
   "execution_count": 23,
   "id": "fc99fb5b",
   "metadata": {},
   "outputs": [
    {
     "data": {
      "text/plain": [
       "(5000, 784)"
      ]
     },
     "execution_count": 23,
     "metadata": {},
     "output_type": "execute_result"
    }
   ],
   "source": [
    "X_train.shape\n"
   ]
  },
  {
   "cell_type": "code",
   "execution_count": 25,
   "id": "1e3d96d3",
   "metadata": {},
   "outputs": [
    {
     "name": "stdout",
     "output_type": "stream",
     "text": [
      "WARNING:tensorflow:From C:\\Users\\suraj\\anaconda3\\lib\\site-packages\\keras\\src\\optimizers\\__init__.py:309: The name tf.train.Optimizer is deprecated. Please use tf.compat.v1.train.Optimizer instead.\n",
      "\n"
     ]
    }
   ],
   "source": [
    "def design_mlp():\n",
    "    model=Sequential()\n",
    "    model.add(Dense(150, input_dim=784, activation='relu'))\n",
    "    #we heve imah=ge size is 28*28 =784 and first layes is of 150\n",
    "    model.add(Dense(200, activation=\"tanh\"))\n",
    "    model.add(Dense(100, activation=\"tanh\"))\n",
    "    model.add(Dense(500, activation=\"tanh\"))\n",
    "    model.add(Dense(num_of_classes, activation='softmax'))\n",
    "    #softmax will give results in probability\n",
    "    model.compile(loss='categorical_crossentropy', optimizer=\"adam\", metrics=[\"accuracy\"])\n",
    "    return model\n",
    "model=design_mlp()"
   ]
  },
  {
   "cell_type": "code",
   "execution_count": 26,
   "id": "c85b22e2",
   "metadata": {},
   "outputs": [
    {
     "name": "stdout",
     "output_type": "stream",
     "text": [
      "Epoch 1/20\n",
      "WARNING:tensorflow:From C:\\Users\\suraj\\anaconda3\\lib\\site-packages\\keras\\src\\utils\\tf_utils.py:492: The name tf.ragged.RaggedTensorValue is deprecated. Please use tf.compat.v1.ragged.RaggedTensorValue instead.\n",
      "\n",
      "WARNING:tensorflow:From C:\\Users\\suraj\\anaconda3\\lib\\site-packages\\keras\\src\\engine\\base_layer_utils.py:384: The name tf.executing_eagerly_outside_functions is deprecated. Please use tf.compat.v1.executing_eagerly_outside_functions instead.\n",
      "\n",
      "5/5 [==============================] - 1s 15ms/step - loss: 1.9402 - accuracy: 0.4482\n",
      "Epoch 2/20\n",
      "5/5 [==============================] - 0s 12ms/step - loss: 1.0580 - accuracy: 0.7550\n",
      "Epoch 3/20\n",
      "5/5 [==============================] - 0s 13ms/step - loss: 0.5914 - accuracy: 0.8278\n",
      "Epoch 4/20\n",
      "5/5 [==============================] - 0s 13ms/step - loss: 0.4152 - accuracy: 0.8764\n",
      "Epoch 5/20\n",
      "5/5 [==============================] - 0s 17ms/step - loss: 0.3334 - accuracy: 0.8984\n",
      "Epoch 6/20\n",
      "5/5 [==============================] - 0s 22ms/step - loss: 0.2870 - accuracy: 0.9114\n",
      "Epoch 7/20\n",
      "5/5 [==============================] - 0s 20ms/step - loss: 0.2451 - accuracy: 0.9264\n",
      "Epoch 8/20\n",
      "5/5 [==============================] - 0s 17ms/step - loss: 0.2089 - accuracy: 0.9410\n",
      "Epoch 9/20\n",
      "5/5 [==============================] - 0s 20ms/step - loss: 0.1804 - accuracy: 0.9498\n",
      "Epoch 10/20\n",
      "5/5 [==============================] - 0s 20ms/step - loss: 0.1572 - accuracy: 0.9584\n",
      "Epoch 11/20\n",
      "5/5 [==============================] - 0s 12ms/step - loss: 0.1387 - accuracy: 0.9634\n",
      "Epoch 12/20\n",
      "5/5 [==============================] - 0s 17ms/step - loss: 0.1163 - accuracy: 0.9700\n",
      "Epoch 13/20\n",
      "5/5 [==============================] - 0s 16ms/step - loss: 0.1010 - accuracy: 0.9748\n",
      "Epoch 14/20\n",
      "5/5 [==============================] - 0s 12ms/step - loss: 0.0856 - accuracy: 0.9812\n",
      "Epoch 15/20\n",
      "5/5 [==============================] - 0s 20ms/step - loss: 0.0718 - accuracy: 0.9844\n",
      "Epoch 16/20\n",
      "5/5 [==============================] - 0s 17ms/step - loss: 0.0598 - accuracy: 0.9870\n",
      "Epoch 17/20\n",
      "5/5 [==============================] - 0s 21ms/step - loss: 0.0490 - accuracy: 0.9900\n",
      "Epoch 18/20\n",
      "5/5 [==============================] - 0s 21ms/step - loss: 0.0409 - accuracy: 0.9936\n",
      "Epoch 19/20\n",
      "5/5 [==============================] - 0s 20ms/step - loss: 0.0339 - accuracy: 0.9956\n",
      "Epoch 20/20\n",
      "5/5 [==============================] - 0s 21ms/step - loss: 0.0296 - accuracy: 0.9968\n"
     ]
    },
    {
     "data": {
      "text/plain": [
       "<keras.src.callbacks.History at 0x2cea564b550>"
      ]
     },
     "execution_count": 26,
     "metadata": {},
     "output_type": "execute_result"
    }
   ],
   "source": [
    "#fitting model on train data\n",
    "model.fit(x=X_train, y=y_train, batch_size=1000, epochs=20)\n",
    "#evalutaing the error"
   ]
  },
  {
   "cell_type": "code",
   "execution_count": 28,
   "id": "3c119778",
   "metadata": {},
   "outputs": [
    {
     "name": "stdout",
     "output_type": "stream",
     "text": [
      "32/32 [==============================] - 0s 3ms/step - loss: 0.1905 - accuracy: 0.9410\n",
      "Accuracy :94.100%\n"
     ]
    }
   ],
   "source": [
    "eval_score_test=model.evaluate(X_test, y_test, verbose=1)\n",
    "print(\"Accuracy :%.3f%%\"%(eval_score_test[1]*100))"
   ]
  },
  {
   "cell_type": "code",
   "execution_count": 29,
   "id": "2a363e40",
   "metadata": {},
   "outputs": [
    {
     "name": "stdout",
     "output_type": "stream",
     "text": [
      "157/157 [==============================] - 0s 1ms/step - loss: 0.0252 - accuracy: 0.9974\n",
      "Accuracy :99.740%\n"
     ]
    }
   ],
   "source": [
    "eval_score_train=model.evaluate(X_train, y_train, verbose=1)\n",
    "print(\"Accuracy :%.3f%%\"%(eval_score_train[1]*100))"
   ]
  },
  {
   "cell_type": "code",
   "execution_count": null,
   "id": "64d53a34",
   "metadata": {},
   "outputs": [],
   "source": [
    "#when training accuracy is high and test accuracy is low this is overfitting mode\n",
    "#so we are applying the ANN topics to overcome the overfitting the problem"
   ]
  }
 ],
 "metadata": {
  "kernelspec": {
   "display_name": "Python 3 (ipykernel)",
   "language": "python",
   "name": "python3"
  },
  "language_info": {
   "codemirror_mode": {
    "name": "ipython",
    "version": 3
   },
   "file_extension": ".py",
   "mimetype": "text/x-python",
   "name": "python",
   "nbconvert_exporter": "python",
   "pygments_lexer": "ipython3",
   "version": "3.10.9"
  }
 },
 "nbformat": 4,
 "nbformat_minor": 5
}
