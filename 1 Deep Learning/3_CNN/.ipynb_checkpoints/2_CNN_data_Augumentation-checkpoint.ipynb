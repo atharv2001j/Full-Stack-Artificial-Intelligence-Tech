{
 "cells": [
  {
   "cell_type": "code",
   "execution_count": 1,
   "id": "022c6586",
   "metadata": {},
   "outputs": [],
   "source": [
    "#computer vision"
   ]
  },
  {
   "cell_type": "code",
   "execution_count": 2,
   "id": "e601eb9c",
   "metadata": {},
   "outputs": [
    {
     "name": "stdout",
     "output_type": "stream",
     "text": [
      "WARNING:tensorflow:From C:\\Users\\suraj\\anaconda3\\lib\\site-packages\\keras\\src\\losses.py:2976: The name tf.losses.sparse_softmax_cross_entropy is deprecated. Please use tf.compat.v1.losses.sparse_softmax_cross_entropy instead.\n",
      "\n"
     ]
    }
   ],
   "source": [
    "from tensorflow.keras.preprocessing.image import ImageDataGenerator\n",
    "from skimage import io"
   ]
  },
  {
   "cell_type": "code",
   "execution_count": 3,
   "id": "fbf59f5b",
   "metadata": {},
   "outputs": [],
   "source": [
    "#constrct an instance of the ImageDataGenerator class\n",
    "#pass the augmentation parameters through the constructor"
   ]
  },
  {
   "cell_type": "code",
   "execution_count": 9,
   "id": "7c1b993d",
   "metadata": {},
   "outputs": [],
   "source": [
    "datagen= ImageDataGenerator(\n",
    "        rotation_range=45,    #random rotaon between 0 and 45\n",
    "        width_shift_range=0.2, # % shift\n",
    "        height_shift_range=0.2,\n",
    "        shear_range=0.2,\n",
    "        zoom_range=0.2,\n",
    "        horizontal_flip=True,\n",
    "        fill_mode='constant', cval=125)         #constant, cval=125 # also try nearest, constant, reflect, wrap at fill_mode_val\n",
    "#aslo keep fill_mode='constant' and remove cval"
   ]
  },
  {
   "cell_type": "code",
   "execution_count": 10,
   "id": "5716e3d8",
   "metadata": {},
   "outputs": [],
   "source": [
    "#loading a single image fro demonstraction purpose\n",
    "#using flow method to augment the image\n",
    "\n",
    "\n",
    "#loading the sample image\n",
    "#can ues any librarayy to read image but they need to be in array form\n",
    "#if using keras load_img convert it to an array first\n",
    "\n",
    "x=io.imread(\"C:/Artificial Intelligence/dataset/AI/CNN_data/mona/monalisa_original.jpg\")\n",
    "\n",
    "#reshape the input image becauses\n",
    "#x: input data to datagen . flow must be Numpy array aof rank 4 or a tuple\n",
    "#first element represent the number of image\n",
    "x=x.reshape((1,) + x.shape)   #array with shape(1,256,256,3)\n",
    "\n",
    "\n",
    "\n",
    "i=0\n",
    "for batch in datagen.flow(x,batch_size=16,\n",
    "                         save_to_dir=\"C:/Artificial Intelligence/dataset/AI/CNN_data/Augumented\",\n",
    "                         save_prefix='aug',\n",
    "                         save_format='png'):\n",
    "    i+=1\n",
    "    if i>20:\n",
    "        break #otherwise the generator would loop indefinitely\n"
   ]
  },
  {
   "cell_type": "code",
   "execution_count": null,
   "id": "62e1419f",
   "metadata": {},
   "outputs": [],
   "source": []
  }
 ],
 "metadata": {
  "kernelspec": {
   "display_name": "Python 3 (ipykernel)",
   "language": "python",
   "name": "python3"
  },
  "language_info": {
   "codemirror_mode": {
    "name": "ipython",
    "version": 3
   },
   "file_extension": ".py",
   "mimetype": "text/x-python",
   "name": "python",
   "nbconvert_exporter": "python",
   "pygments_lexer": "ipython3",
   "version": "3.10.9"
  }
 },
 "nbformat": 4,
 "nbformat_minor": 5
}
