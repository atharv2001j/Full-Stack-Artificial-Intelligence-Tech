{
 "cells": [
  {
   "cell_type": "code",
   "execution_count": 4,
   "id": "a0bb78ad",
   "metadata": {},
   "outputs": [],
   "source": [
    "#you need to understand the business understanding of the dataset"
   ]
  },
  {
   "cell_type": "code",
   "execution_count": 5,
   "id": "0f141b6c",
   "metadata": {},
   "outputs": [],
   "source": [
    "import numpy as np\n",
    "import pandas as pd\n"
   ]
  },
  {
   "cell_type": "code",
   "execution_count": 6,
   "id": "e27f136f",
   "metadata": {},
   "outputs": [],
   "source": [
    "df=pd.read_csv(\"C:/Artificial Intelligence/1 1 Deep Learning/1_ANN/Churn_Modelling.csv\")"
   ]
  },
  {
   "cell_type": "code",
   "execution_count": 7,
   "id": "d73619bb",
   "metadata": {},
   "outputs": [
    {
     "data": {
      "text/plain": [
       "(10000, 14)"
      ]
     },
     "execution_count": 7,
     "metadata": {},
     "output_type": "execute_result"
    }
   ],
   "source": [
    "df.shape"
   ]
  },
  {
   "cell_type": "code",
   "execution_count": 7,
   "id": "a336d63f",
   "metadata": {},
   "outputs": [],
   "source": [
    "#Total 10000 data points and 14 columns are present"
   ]
  },
  {
   "cell_type": "code",
   "execution_count": 8,
   "id": "32504071",
   "metadata": {},
   "outputs": [
    {
     "data": {
      "text/html": [
       "<div>\n",
       "<style scoped>\n",
       "    .dataframe tbody tr th:only-of-type {\n",
       "        vertical-align: middle;\n",
       "    }\n",
       "\n",
       "    .dataframe tbody tr th {\n",
       "        vertical-align: top;\n",
       "    }\n",
       "\n",
       "    .dataframe thead th {\n",
       "        text-align: right;\n",
       "    }\n",
       "</style>\n",
       "<table border=\"1\" class=\"dataframe\">\n",
       "  <thead>\n",
       "    <tr style=\"text-align: right;\">\n",
       "      <th></th>\n",
       "      <th>RowNumber</th>\n",
       "      <th>CustomerId</th>\n",
       "      <th>Surname</th>\n",
       "      <th>CreditScore</th>\n",
       "      <th>Geography</th>\n",
       "      <th>Gender</th>\n",
       "      <th>Age</th>\n",
       "      <th>Tenure</th>\n",
       "      <th>Balance</th>\n",
       "      <th>NumOfProducts</th>\n",
       "      <th>HasCrCard</th>\n",
       "      <th>IsActiveMember</th>\n",
       "      <th>EstimatedSalary</th>\n",
       "      <th>Exited</th>\n",
       "    </tr>\n",
       "  </thead>\n",
       "  <tbody>\n",
       "    <tr>\n",
       "      <th>0</th>\n",
       "      <td>1</td>\n",
       "      <td>15634602</td>\n",
       "      <td>Hargrave</td>\n",
       "      <td>619</td>\n",
       "      <td>France</td>\n",
       "      <td>Female</td>\n",
       "      <td>42</td>\n",
       "      <td>2</td>\n",
       "      <td>0.00</td>\n",
       "      <td>1</td>\n",
       "      <td>1</td>\n",
       "      <td>1</td>\n",
       "      <td>101348.88</td>\n",
       "      <td>1</td>\n",
       "    </tr>\n",
       "    <tr>\n",
       "      <th>1</th>\n",
       "      <td>2</td>\n",
       "      <td>15647311</td>\n",
       "      <td>Hill</td>\n",
       "      <td>608</td>\n",
       "      <td>Spain</td>\n",
       "      <td>Female</td>\n",
       "      <td>41</td>\n",
       "      <td>1</td>\n",
       "      <td>83807.86</td>\n",
       "      <td>1</td>\n",
       "      <td>0</td>\n",
       "      <td>1</td>\n",
       "      <td>112542.58</td>\n",
       "      <td>0</td>\n",
       "    </tr>\n",
       "    <tr>\n",
       "      <th>2</th>\n",
       "      <td>3</td>\n",
       "      <td>15619304</td>\n",
       "      <td>Onio</td>\n",
       "      <td>502</td>\n",
       "      <td>France</td>\n",
       "      <td>Female</td>\n",
       "      <td>42</td>\n",
       "      <td>8</td>\n",
       "      <td>159660.80</td>\n",
       "      <td>3</td>\n",
       "      <td>1</td>\n",
       "      <td>0</td>\n",
       "      <td>113931.57</td>\n",
       "      <td>1</td>\n",
       "    </tr>\n",
       "    <tr>\n",
       "      <th>3</th>\n",
       "      <td>4</td>\n",
       "      <td>15701354</td>\n",
       "      <td>Boni</td>\n",
       "      <td>699</td>\n",
       "      <td>France</td>\n",
       "      <td>Female</td>\n",
       "      <td>39</td>\n",
       "      <td>1</td>\n",
       "      <td>0.00</td>\n",
       "      <td>2</td>\n",
       "      <td>0</td>\n",
       "      <td>0</td>\n",
       "      <td>93826.63</td>\n",
       "      <td>0</td>\n",
       "    </tr>\n",
       "    <tr>\n",
       "      <th>4</th>\n",
       "      <td>5</td>\n",
       "      <td>15737888</td>\n",
       "      <td>Mitchell</td>\n",
       "      <td>850</td>\n",
       "      <td>Spain</td>\n",
       "      <td>Female</td>\n",
       "      <td>43</td>\n",
       "      <td>2</td>\n",
       "      <td>125510.82</td>\n",
       "      <td>1</td>\n",
       "      <td>1</td>\n",
       "      <td>1</td>\n",
       "      <td>79084.10</td>\n",
       "      <td>0</td>\n",
       "    </tr>\n",
       "  </tbody>\n",
       "</table>\n",
       "</div>"
      ],
      "text/plain": [
       "   RowNumber  CustomerId   Surname  CreditScore Geography  Gender  Age  \\\n",
       "0          1    15634602  Hargrave          619    France  Female   42   \n",
       "1          2    15647311      Hill          608     Spain  Female   41   \n",
       "2          3    15619304      Onio          502    France  Female   42   \n",
       "3          4    15701354      Boni          699    France  Female   39   \n",
       "4          5    15737888  Mitchell          850     Spain  Female   43   \n",
       "\n",
       "   Tenure    Balance  NumOfProducts  HasCrCard  IsActiveMember  \\\n",
       "0       2       0.00              1          1               1   \n",
       "1       1   83807.86              1          0               1   \n",
       "2       8  159660.80              3          1               0   \n",
       "3       1       0.00              2          0               0   \n",
       "4       2  125510.82              1          1               1   \n",
       "\n",
       "   EstimatedSalary  Exited  \n",
       "0        101348.88       1  \n",
       "1        112542.58       0  \n",
       "2        113931.57       1  \n",
       "3         93826.63       0  \n",
       "4         79084.10       0  "
      ]
     },
     "execution_count": 8,
     "metadata": {},
     "output_type": "execute_result"
    }
   ],
   "source": [
    "df.head()"
   ]
  },
  {
   "cell_type": "code",
   "execution_count": 9,
   "id": "5ef1e0ea",
   "metadata": {},
   "outputs": [
    {
     "name": "stdout",
     "output_type": "stream",
     "text": [
      "<class 'pandas.core.frame.DataFrame'>\n",
      "RangeIndex: 10000 entries, 0 to 9999\n",
      "Data columns (total 14 columns):\n",
      " #   Column           Non-Null Count  Dtype  \n",
      "---  ------           --------------  -----  \n",
      " 0   RowNumber        10000 non-null  int64  \n",
      " 1   CustomerId       10000 non-null  int64  \n",
      " 2   Surname          10000 non-null  object \n",
      " 3   CreditScore      10000 non-null  int64  \n",
      " 4   Geography        10000 non-null  object \n",
      " 5   Gender           10000 non-null  object \n",
      " 6   Age              10000 non-null  int64  \n",
      " 7   Tenure           10000 non-null  int64  \n",
      " 8   Balance          10000 non-null  float64\n",
      " 9   NumOfProducts    10000 non-null  int64  \n",
      " 10  HasCrCard        10000 non-null  int64  \n",
      " 11  IsActiveMember   10000 non-null  int64  \n",
      " 12  EstimatedSalary  10000 non-null  float64\n",
      " 13  Exited           10000 non-null  int64  \n",
      "dtypes: float64(2), int64(9), object(3)\n",
      "memory usage: 1.1+ MB\n"
     ]
    }
   ],
   "source": [
    "df.info()"
   ]
  },
  {
   "cell_type": "code",
   "execution_count": 10,
   "id": "7ca1b242",
   "metadata": {},
   "outputs": [],
   "source": [
    "#Row number and customerid and surname are not usefull hence it drop"
   ]
  },
  {
   "cell_type": "code",
   "execution_count": 11,
   "id": "768ce129",
   "metadata": {},
   "outputs": [],
   "source": [
    "df.drop(columns=['RowNumber','CustomerId', 'Surname'], inplace=True)"
   ]
  },
  {
   "cell_type": "code",
   "execution_count": 12,
   "id": "bb8366eb",
   "metadata": {},
   "outputs": [
    {
     "data": {
      "text/html": [
       "<div>\n",
       "<style scoped>\n",
       "    .dataframe tbody tr th:only-of-type {\n",
       "        vertical-align: middle;\n",
       "    }\n",
       "\n",
       "    .dataframe tbody tr th {\n",
       "        vertical-align: top;\n",
       "    }\n",
       "\n",
       "    .dataframe thead th {\n",
       "        text-align: right;\n",
       "    }\n",
       "</style>\n",
       "<table border=\"1\" class=\"dataframe\">\n",
       "  <thead>\n",
       "    <tr style=\"text-align: right;\">\n",
       "      <th></th>\n",
       "      <th>CreditScore</th>\n",
       "      <th>Geography</th>\n",
       "      <th>Gender</th>\n",
       "      <th>Age</th>\n",
       "      <th>Tenure</th>\n",
       "      <th>Balance</th>\n",
       "      <th>NumOfProducts</th>\n",
       "      <th>HasCrCard</th>\n",
       "      <th>IsActiveMember</th>\n",
       "      <th>EstimatedSalary</th>\n",
       "      <th>Exited</th>\n",
       "    </tr>\n",
       "  </thead>\n",
       "  <tbody>\n",
       "    <tr>\n",
       "      <th>0</th>\n",
       "      <td>619</td>\n",
       "      <td>France</td>\n",
       "      <td>Female</td>\n",
       "      <td>42</td>\n",
       "      <td>2</td>\n",
       "      <td>0.00</td>\n",
       "      <td>1</td>\n",
       "      <td>1</td>\n",
       "      <td>1</td>\n",
       "      <td>101348.88</td>\n",
       "      <td>1</td>\n",
       "    </tr>\n",
       "    <tr>\n",
       "      <th>1</th>\n",
       "      <td>608</td>\n",
       "      <td>Spain</td>\n",
       "      <td>Female</td>\n",
       "      <td>41</td>\n",
       "      <td>1</td>\n",
       "      <td>83807.86</td>\n",
       "      <td>1</td>\n",
       "      <td>0</td>\n",
       "      <td>1</td>\n",
       "      <td>112542.58</td>\n",
       "      <td>0</td>\n",
       "    </tr>\n",
       "    <tr>\n",
       "      <th>2</th>\n",
       "      <td>502</td>\n",
       "      <td>France</td>\n",
       "      <td>Female</td>\n",
       "      <td>42</td>\n",
       "      <td>8</td>\n",
       "      <td>159660.80</td>\n",
       "      <td>3</td>\n",
       "      <td>1</td>\n",
       "      <td>0</td>\n",
       "      <td>113931.57</td>\n",
       "      <td>1</td>\n",
       "    </tr>\n",
       "    <tr>\n",
       "      <th>3</th>\n",
       "      <td>699</td>\n",
       "      <td>France</td>\n",
       "      <td>Female</td>\n",
       "      <td>39</td>\n",
       "      <td>1</td>\n",
       "      <td>0.00</td>\n",
       "      <td>2</td>\n",
       "      <td>0</td>\n",
       "      <td>0</td>\n",
       "      <td>93826.63</td>\n",
       "      <td>0</td>\n",
       "    </tr>\n",
       "    <tr>\n",
       "      <th>4</th>\n",
       "      <td>850</td>\n",
       "      <td>Spain</td>\n",
       "      <td>Female</td>\n",
       "      <td>43</td>\n",
       "      <td>2</td>\n",
       "      <td>125510.82</td>\n",
       "      <td>1</td>\n",
       "      <td>1</td>\n",
       "      <td>1</td>\n",
       "      <td>79084.10</td>\n",
       "      <td>0</td>\n",
       "    </tr>\n",
       "  </tbody>\n",
       "</table>\n",
       "</div>"
      ],
      "text/plain": [
       "   CreditScore Geography  Gender  Age  Tenure    Balance  NumOfProducts  \\\n",
       "0          619    France  Female   42       2       0.00              1   \n",
       "1          608     Spain  Female   41       1   83807.86              1   \n",
       "2          502    France  Female   42       8  159660.80              3   \n",
       "3          699    France  Female   39       1       0.00              2   \n",
       "4          850     Spain  Female   43       2  125510.82              1   \n",
       "\n",
       "   HasCrCard  IsActiveMember  EstimatedSalary  Exited  \n",
       "0          1               1        101348.88       1  \n",
       "1          0               1        112542.58       0  \n",
       "2          1               0        113931.57       1  \n",
       "3          0               0         93826.63       0  \n",
       "4          1               1         79084.10       0  "
      ]
     },
     "execution_count": 12,
     "metadata": {},
     "output_type": "execute_result"
    }
   ],
   "source": [
    "df.head()"
   ]
  },
  {
   "cell_type": "code",
   "execution_count": 14,
   "id": "c93db845",
   "metadata": {},
   "outputs": [
    {
     "data": {
      "text/html": [
       "<div>\n",
       "<style scoped>\n",
       "    .dataframe tbody tr th:only-of-type {\n",
       "        vertical-align: middle;\n",
       "    }\n",
       "\n",
       "    .dataframe tbody tr th {\n",
       "        vertical-align: top;\n",
       "    }\n",
       "\n",
       "    .dataframe thead th {\n",
       "        text-align: right;\n",
       "    }\n",
       "</style>\n",
       "<table border=\"1\" class=\"dataframe\">\n",
       "  <thead>\n",
       "    <tr style=\"text-align: right;\">\n",
       "      <th></th>\n",
       "      <th>CreditScore</th>\n",
       "      <th>Geography</th>\n",
       "      <th>Gender</th>\n",
       "      <th>Age</th>\n",
       "      <th>Tenure</th>\n",
       "      <th>Balance</th>\n",
       "      <th>NumOfProducts</th>\n",
       "      <th>HasCrCard</th>\n",
       "      <th>IsActiveMember</th>\n",
       "      <th>EstimatedSalary</th>\n",
       "      <th>Exited</th>\n",
       "    </tr>\n",
       "  </thead>\n",
       "  <tbody>\n",
       "    <tr>\n",
       "      <th>0</th>\n",
       "      <td>False</td>\n",
       "      <td>False</td>\n",
       "      <td>False</td>\n",
       "      <td>False</td>\n",
       "      <td>False</td>\n",
       "      <td>False</td>\n",
       "      <td>False</td>\n",
       "      <td>False</td>\n",
       "      <td>False</td>\n",
       "      <td>False</td>\n",
       "      <td>False</td>\n",
       "    </tr>\n",
       "    <tr>\n",
       "      <th>1</th>\n",
       "      <td>False</td>\n",
       "      <td>False</td>\n",
       "      <td>False</td>\n",
       "      <td>False</td>\n",
       "      <td>False</td>\n",
       "      <td>False</td>\n",
       "      <td>False</td>\n",
       "      <td>False</td>\n",
       "      <td>False</td>\n",
       "      <td>False</td>\n",
       "      <td>False</td>\n",
       "    </tr>\n",
       "    <tr>\n",
       "      <th>2</th>\n",
       "      <td>False</td>\n",
       "      <td>False</td>\n",
       "      <td>False</td>\n",
       "      <td>False</td>\n",
       "      <td>False</td>\n",
       "      <td>False</td>\n",
       "      <td>False</td>\n",
       "      <td>False</td>\n",
       "      <td>False</td>\n",
       "      <td>False</td>\n",
       "      <td>False</td>\n",
       "    </tr>\n",
       "    <tr>\n",
       "      <th>3</th>\n",
       "      <td>False</td>\n",
       "      <td>False</td>\n",
       "      <td>False</td>\n",
       "      <td>False</td>\n",
       "      <td>False</td>\n",
       "      <td>False</td>\n",
       "      <td>False</td>\n",
       "      <td>False</td>\n",
       "      <td>False</td>\n",
       "      <td>False</td>\n",
       "      <td>False</td>\n",
       "    </tr>\n",
       "    <tr>\n",
       "      <th>4</th>\n",
       "      <td>False</td>\n",
       "      <td>False</td>\n",
       "      <td>False</td>\n",
       "      <td>False</td>\n",
       "      <td>False</td>\n",
       "      <td>False</td>\n",
       "      <td>False</td>\n",
       "      <td>False</td>\n",
       "      <td>False</td>\n",
       "      <td>False</td>\n",
       "      <td>False</td>\n",
       "    </tr>\n",
       "    <tr>\n",
       "      <th>...</th>\n",
       "      <td>...</td>\n",
       "      <td>...</td>\n",
       "      <td>...</td>\n",
       "      <td>...</td>\n",
       "      <td>...</td>\n",
       "      <td>...</td>\n",
       "      <td>...</td>\n",
       "      <td>...</td>\n",
       "      <td>...</td>\n",
       "      <td>...</td>\n",
       "      <td>...</td>\n",
       "    </tr>\n",
       "    <tr>\n",
       "      <th>9995</th>\n",
       "      <td>False</td>\n",
       "      <td>False</td>\n",
       "      <td>False</td>\n",
       "      <td>False</td>\n",
       "      <td>False</td>\n",
       "      <td>False</td>\n",
       "      <td>False</td>\n",
       "      <td>False</td>\n",
       "      <td>False</td>\n",
       "      <td>False</td>\n",
       "      <td>False</td>\n",
       "    </tr>\n",
       "    <tr>\n",
       "      <th>9996</th>\n",
       "      <td>False</td>\n",
       "      <td>False</td>\n",
       "      <td>False</td>\n",
       "      <td>False</td>\n",
       "      <td>False</td>\n",
       "      <td>False</td>\n",
       "      <td>False</td>\n",
       "      <td>False</td>\n",
       "      <td>False</td>\n",
       "      <td>False</td>\n",
       "      <td>False</td>\n",
       "    </tr>\n",
       "    <tr>\n",
       "      <th>9997</th>\n",
       "      <td>False</td>\n",
       "      <td>False</td>\n",
       "      <td>False</td>\n",
       "      <td>False</td>\n",
       "      <td>False</td>\n",
       "      <td>False</td>\n",
       "      <td>False</td>\n",
       "      <td>False</td>\n",
       "      <td>False</td>\n",
       "      <td>False</td>\n",
       "      <td>False</td>\n",
       "    </tr>\n",
       "    <tr>\n",
       "      <th>9998</th>\n",
       "      <td>False</td>\n",
       "      <td>False</td>\n",
       "      <td>False</td>\n",
       "      <td>False</td>\n",
       "      <td>False</td>\n",
       "      <td>False</td>\n",
       "      <td>False</td>\n",
       "      <td>False</td>\n",
       "      <td>False</td>\n",
       "      <td>False</td>\n",
       "      <td>False</td>\n",
       "    </tr>\n",
       "    <tr>\n",
       "      <th>9999</th>\n",
       "      <td>False</td>\n",
       "      <td>False</td>\n",
       "      <td>False</td>\n",
       "      <td>False</td>\n",
       "      <td>False</td>\n",
       "      <td>False</td>\n",
       "      <td>False</td>\n",
       "      <td>False</td>\n",
       "      <td>False</td>\n",
       "      <td>False</td>\n",
       "      <td>False</td>\n",
       "    </tr>\n",
       "  </tbody>\n",
       "</table>\n",
       "<p>10000 rows × 11 columns</p>\n",
       "</div>"
      ],
      "text/plain": [
       "      CreditScore  Geography  Gender    Age  Tenure  Balance  NumOfProducts  \\\n",
       "0           False      False   False  False   False    False          False   \n",
       "1           False      False   False  False   False    False          False   \n",
       "2           False      False   False  False   False    False          False   \n",
       "3           False      False   False  False   False    False          False   \n",
       "4           False      False   False  False   False    False          False   \n",
       "...           ...        ...     ...    ...     ...      ...            ...   \n",
       "9995        False      False   False  False   False    False          False   \n",
       "9996        False      False   False  False   False    False          False   \n",
       "9997        False      False   False  False   False    False          False   \n",
       "9998        False      False   False  False   False    False          False   \n",
       "9999        False      False   False  False   False    False          False   \n",
       "\n",
       "      HasCrCard  IsActiveMember  EstimatedSalary  Exited  \n",
       "0         False           False            False   False  \n",
       "1         False           False            False   False  \n",
       "2         False           False            False   False  \n",
       "3         False           False            False   False  \n",
       "4         False           False            False   False  \n",
       "...         ...             ...              ...     ...  \n",
       "9995      False           False            False   False  \n",
       "9996      False           False            False   False  \n",
       "9997      False           False            False   False  \n",
       "9998      False           False            False   False  \n",
       "9999      False           False            False   False  \n",
       "\n",
       "[10000 rows x 11 columns]"
      ]
     },
     "execution_count": 14,
     "metadata": {},
     "output_type": "execute_result"
    }
   ],
   "source": [
    "df.isnull() #df.isnull().sum()"
   ]
  },
  {
   "cell_type": "code",
   "execution_count": 15,
   "id": "32fdbed1",
   "metadata": {},
   "outputs": [
    {
     "name": "stdout",
     "output_type": "stream",
     "text": [
      "<class 'pandas.core.frame.DataFrame'>\n",
      "RangeIndex: 10000 entries, 0 to 9999\n",
      "Data columns (total 11 columns):\n",
      " #   Column           Non-Null Count  Dtype  \n",
      "---  ------           --------------  -----  \n",
      " 0   CreditScore      10000 non-null  int64  \n",
      " 1   Geography        10000 non-null  object \n",
      " 2   Gender           10000 non-null  object \n",
      " 3   Age              10000 non-null  int64  \n",
      " 4   Tenure           10000 non-null  int64  \n",
      " 5   Balance          10000 non-null  float64\n",
      " 6   NumOfProducts    10000 non-null  int64  \n",
      " 7   HasCrCard        10000 non-null  int64  \n",
      " 8   IsActiveMember   10000 non-null  int64  \n",
      " 9   EstimatedSalary  10000 non-null  float64\n",
      " 10  Exited           10000 non-null  int64  \n",
      "dtypes: float64(2), int64(7), object(2)\n",
      "memory usage: 859.5+ KB\n"
     ]
    }
   ],
   "source": [
    "df.info()"
   ]
  },
  {
   "cell_type": "code",
   "execution_count": 16,
   "id": "522278b6",
   "metadata": {},
   "outputs": [],
   "source": [
    "#there are 0 null value in the dataset \n"
   ]
  },
  {
   "cell_type": "code",
   "execution_count": 18,
   "id": "f216ca0d",
   "metadata": {},
   "outputs": [],
   "source": [
    "#there are 2 columns Gender and  Geograpy are object type we need to convert it into the numerical form"
   ]
  },
  {
   "cell_type": "code",
   "execution_count": 21,
   "id": "2df22320",
   "metadata": {},
   "outputs": [
    {
     "data": {
      "text/plain": [
       "0"
      ]
     },
     "execution_count": 21,
     "metadata": {},
     "output_type": "execute_result"
    }
   ],
   "source": [
    "#check the duplicate\n",
    "df.duplicated().sum()"
   ]
  },
  {
   "cell_type": "code",
   "execution_count": 22,
   "id": "ad23cf59",
   "metadata": {},
   "outputs": [],
   "source": [
    "#there are 0 duplicate value"
   ]
  },
  {
   "cell_type": "code",
   "execution_count": 23,
   "id": "afe4ee76",
   "metadata": {},
   "outputs": [
    {
     "data": {
      "text/plain": [
       "0    7963\n",
       "1    2037\n",
       "Name: Exited, dtype: int64"
      ]
     },
     "execution_count": 23,
     "metadata": {},
     "output_type": "execute_result"
    }
   ],
   "source": [
    "#let us check how many customer have left the bank\n",
    "df['Exited'].value_counts()"
   ]
  },
  {
   "cell_type": "code",
   "execution_count": 24,
   "id": "9a3e9636",
   "metadata": {},
   "outputs": [],
   "source": [
    "#7963 custmoer are left the  bank"
   ]
  },
  {
   "cell_type": "code",
   "execution_count": 25,
   "id": "db044bc5",
   "metadata": {},
   "outputs": [
    {
     "data": {
      "text/plain": [
       "France     5014\n",
       "Germany    2509\n",
       "Spain      2477\n",
       "Name: Geography, dtype: int64"
      ]
     },
     "execution_count": 25,
     "metadata": {},
     "output_type": "execute_result"
    }
   ],
   "source": [
    "#let us check how many custmer are from which geography\n",
    "df['Geography'].value_counts()"
   ]
  },
  {
   "cell_type": "code",
   "execution_count": 27,
   "id": "ac94eb3e",
   "metadata": {},
   "outputs": [],
   "source": [
    "#there are less custmer from spain and more are from France"
   ]
  },
  {
   "cell_type": "code",
   "execution_count": 28,
   "id": "70c4cbc3",
   "metadata": {},
   "outputs": [
    {
     "data": {
      "text/plain": [
       "Male      5457\n",
       "Female    4543\n",
       "Name: Gender, dtype: int64"
      ]
     },
     "execution_count": 28,
     "metadata": {},
     "output_type": "execute_result"
    }
   ],
   "source": [
    "#let us check how many males and how many female are there\n",
    "df['Gender'].value_counts()"
   ]
  },
  {
   "cell_type": "code",
   "execution_count": 30,
   "id": "c90307c1",
   "metadata": {},
   "outputs": [],
   "source": [
    "#we want to convert Geopgraphy and Gender which is an object type convert into int\n",
    "df=pd.get_dummies(df,columns=['Geography','Gender'], drop_first=True)"
   ]
  },
  {
   "cell_type": "code",
   "execution_count": 31,
   "id": "3e71b742",
   "metadata": {},
   "outputs": [
    {
     "data": {
      "text/html": [
       "<div>\n",
       "<style scoped>\n",
       "    .dataframe tbody tr th:only-of-type {\n",
       "        vertical-align: middle;\n",
       "    }\n",
       "\n",
       "    .dataframe tbody tr th {\n",
       "        vertical-align: top;\n",
       "    }\n",
       "\n",
       "    .dataframe thead th {\n",
       "        text-align: right;\n",
       "    }\n",
       "</style>\n",
       "<table border=\"1\" class=\"dataframe\">\n",
       "  <thead>\n",
       "    <tr style=\"text-align: right;\">\n",
       "      <th></th>\n",
       "      <th>CreditScore</th>\n",
       "      <th>Age</th>\n",
       "      <th>Tenure</th>\n",
       "      <th>Balance</th>\n",
       "      <th>NumOfProducts</th>\n",
       "      <th>HasCrCard</th>\n",
       "      <th>IsActiveMember</th>\n",
       "      <th>EstimatedSalary</th>\n",
       "      <th>Exited</th>\n",
       "      <th>Geography_Germany</th>\n",
       "      <th>Geography_Spain</th>\n",
       "      <th>Gender_Male</th>\n",
       "    </tr>\n",
       "  </thead>\n",
       "  <tbody>\n",
       "    <tr>\n",
       "      <th>0</th>\n",
       "      <td>619</td>\n",
       "      <td>42</td>\n",
       "      <td>2</td>\n",
       "      <td>0.00</td>\n",
       "      <td>1</td>\n",
       "      <td>1</td>\n",
       "      <td>1</td>\n",
       "      <td>101348.88</td>\n",
       "      <td>1</td>\n",
       "      <td>0</td>\n",
       "      <td>0</td>\n",
       "      <td>0</td>\n",
       "    </tr>\n",
       "    <tr>\n",
       "      <th>1</th>\n",
       "      <td>608</td>\n",
       "      <td>41</td>\n",
       "      <td>1</td>\n",
       "      <td>83807.86</td>\n",
       "      <td>1</td>\n",
       "      <td>0</td>\n",
       "      <td>1</td>\n",
       "      <td>112542.58</td>\n",
       "      <td>0</td>\n",
       "      <td>0</td>\n",
       "      <td>1</td>\n",
       "      <td>0</td>\n",
       "    </tr>\n",
       "    <tr>\n",
       "      <th>2</th>\n",
       "      <td>502</td>\n",
       "      <td>42</td>\n",
       "      <td>8</td>\n",
       "      <td>159660.80</td>\n",
       "      <td>3</td>\n",
       "      <td>1</td>\n",
       "      <td>0</td>\n",
       "      <td>113931.57</td>\n",
       "      <td>1</td>\n",
       "      <td>0</td>\n",
       "      <td>0</td>\n",
       "      <td>0</td>\n",
       "    </tr>\n",
       "    <tr>\n",
       "      <th>3</th>\n",
       "      <td>699</td>\n",
       "      <td>39</td>\n",
       "      <td>1</td>\n",
       "      <td>0.00</td>\n",
       "      <td>2</td>\n",
       "      <td>0</td>\n",
       "      <td>0</td>\n",
       "      <td>93826.63</td>\n",
       "      <td>0</td>\n",
       "      <td>0</td>\n",
       "      <td>0</td>\n",
       "      <td>0</td>\n",
       "    </tr>\n",
       "    <tr>\n",
       "      <th>4</th>\n",
       "      <td>850</td>\n",
       "      <td>43</td>\n",
       "      <td>2</td>\n",
       "      <td>125510.82</td>\n",
       "      <td>1</td>\n",
       "      <td>1</td>\n",
       "      <td>1</td>\n",
       "      <td>79084.10</td>\n",
       "      <td>0</td>\n",
       "      <td>0</td>\n",
       "      <td>1</td>\n",
       "      <td>0</td>\n",
       "    </tr>\n",
       "  </tbody>\n",
       "</table>\n",
       "</div>"
      ],
      "text/plain": [
       "   CreditScore  Age  Tenure    Balance  NumOfProducts  HasCrCard  \\\n",
       "0          619   42       2       0.00              1          1   \n",
       "1          608   41       1   83807.86              1          0   \n",
       "2          502   42       8  159660.80              3          1   \n",
       "3          699   39       1       0.00              2          0   \n",
       "4          850   43       2  125510.82              1          1   \n",
       "\n",
       "   IsActiveMember  EstimatedSalary  Exited  Geography_Germany  \\\n",
       "0               1        101348.88       1                  0   \n",
       "1               1        112542.58       0                  0   \n",
       "2               0        113931.57       1                  0   \n",
       "3               0         93826.63       0                  0   \n",
       "4               1         79084.10       0                  0   \n",
       "\n",
       "   Geography_Spain  Gender_Male  \n",
       "0                0            0  \n",
       "1                1            0  \n",
       "2                0            0  \n",
       "3                0            0  \n",
       "4                1            0  "
      ]
     },
     "execution_count": 31,
     "metadata": {},
     "output_type": "execute_result"
    }
   ],
   "source": [
    "df.head()"
   ]
  },
  {
   "cell_type": "code",
   "execution_count": 32,
   "id": "384de367",
   "metadata": {},
   "outputs": [],
   "source": [
    "#in the above we are convert the geography and gender in the int and the less will occur we drop and we make the classs"
   ]
  },
  {
   "cell_type": "code",
   "execution_count": 38,
   "id": "fce949ff",
   "metadata": {},
   "outputs": [],
   "source": [
    "#here geograph france is dropped and male column is droped\n",
    "#we are doing the requierd expolatory data anlysiss\n",
    "#for devolping the model\n",
    "#if you are go for unknown data set then go from eaxh step\n"
   ]
  },
  {
   "cell_type": "code",
   "execution_count": 39,
   "id": "0b3df281",
   "metadata": {},
   "outputs": [],
   "source": [
    "#Assign all features to X and Traget columns as y\n",
    "#divide the data into Train and TEst\n",
    "\n",
    "X=df.drop(columns=['Exited'])\n",
    "y=df['Exited'].values\n",
    "\n",
    "from sklearn.model_selection import train_test_split\n",
    "X_train, X_test, y_train, y_test=train_test_split(X, y ,test_size=0.2, random_state=0)"
   ]
  },
  {
   "cell_type": "code",
   "execution_count": 40,
   "id": "0001c905",
   "metadata": {},
   "outputs": [
    {
     "data": {
      "text/html": [
       "<div>\n",
       "<style scoped>\n",
       "    .dataframe tbody tr th:only-of-type {\n",
       "        vertical-align: middle;\n",
       "    }\n",
       "\n",
       "    .dataframe tbody tr th {\n",
       "        vertical-align: top;\n",
       "    }\n",
       "\n",
       "    .dataframe thead th {\n",
       "        text-align: right;\n",
       "    }\n",
       "</style>\n",
       "<table border=\"1\" class=\"dataframe\">\n",
       "  <thead>\n",
       "    <tr style=\"text-align: right;\">\n",
       "      <th></th>\n",
       "      <th>CreditScore</th>\n",
       "      <th>Age</th>\n",
       "      <th>Tenure</th>\n",
       "      <th>Balance</th>\n",
       "      <th>NumOfProducts</th>\n",
       "      <th>HasCrCard</th>\n",
       "      <th>IsActiveMember</th>\n",
       "      <th>EstimatedSalary</th>\n",
       "      <th>Geography_Germany</th>\n",
       "      <th>Geography_Spain</th>\n",
       "      <th>Gender_Male</th>\n",
       "    </tr>\n",
       "  </thead>\n",
       "  <tbody>\n",
       "    <tr>\n",
       "      <th>0</th>\n",
       "      <td>619</td>\n",
       "      <td>42</td>\n",
       "      <td>2</td>\n",
       "      <td>0.00</td>\n",
       "      <td>1</td>\n",
       "      <td>1</td>\n",
       "      <td>1</td>\n",
       "      <td>101348.88</td>\n",
       "      <td>0</td>\n",
       "      <td>0</td>\n",
       "      <td>0</td>\n",
       "    </tr>\n",
       "    <tr>\n",
       "      <th>1</th>\n",
       "      <td>608</td>\n",
       "      <td>41</td>\n",
       "      <td>1</td>\n",
       "      <td>83807.86</td>\n",
       "      <td>1</td>\n",
       "      <td>0</td>\n",
       "      <td>1</td>\n",
       "      <td>112542.58</td>\n",
       "      <td>0</td>\n",
       "      <td>1</td>\n",
       "      <td>0</td>\n",
       "    </tr>\n",
       "    <tr>\n",
       "      <th>2</th>\n",
       "      <td>502</td>\n",
       "      <td>42</td>\n",
       "      <td>8</td>\n",
       "      <td>159660.80</td>\n",
       "      <td>3</td>\n",
       "      <td>1</td>\n",
       "      <td>0</td>\n",
       "      <td>113931.57</td>\n",
       "      <td>0</td>\n",
       "      <td>0</td>\n",
       "      <td>0</td>\n",
       "    </tr>\n",
       "    <tr>\n",
       "      <th>3</th>\n",
       "      <td>699</td>\n",
       "      <td>39</td>\n",
       "      <td>1</td>\n",
       "      <td>0.00</td>\n",
       "      <td>2</td>\n",
       "      <td>0</td>\n",
       "      <td>0</td>\n",
       "      <td>93826.63</td>\n",
       "      <td>0</td>\n",
       "      <td>0</td>\n",
       "      <td>0</td>\n",
       "    </tr>\n",
       "    <tr>\n",
       "      <th>4</th>\n",
       "      <td>850</td>\n",
       "      <td>43</td>\n",
       "      <td>2</td>\n",
       "      <td>125510.82</td>\n",
       "      <td>1</td>\n",
       "      <td>1</td>\n",
       "      <td>1</td>\n",
       "      <td>79084.10</td>\n",
       "      <td>0</td>\n",
       "      <td>1</td>\n",
       "      <td>0</td>\n",
       "    </tr>\n",
       "    <tr>\n",
       "      <th>...</th>\n",
       "      <td>...</td>\n",
       "      <td>...</td>\n",
       "      <td>...</td>\n",
       "      <td>...</td>\n",
       "      <td>...</td>\n",
       "      <td>...</td>\n",
       "      <td>...</td>\n",
       "      <td>...</td>\n",
       "      <td>...</td>\n",
       "      <td>...</td>\n",
       "      <td>...</td>\n",
       "    </tr>\n",
       "    <tr>\n",
       "      <th>9995</th>\n",
       "      <td>771</td>\n",
       "      <td>39</td>\n",
       "      <td>5</td>\n",
       "      <td>0.00</td>\n",
       "      <td>2</td>\n",
       "      <td>1</td>\n",
       "      <td>0</td>\n",
       "      <td>96270.64</td>\n",
       "      <td>0</td>\n",
       "      <td>0</td>\n",
       "      <td>1</td>\n",
       "    </tr>\n",
       "    <tr>\n",
       "      <th>9996</th>\n",
       "      <td>516</td>\n",
       "      <td>35</td>\n",
       "      <td>10</td>\n",
       "      <td>57369.61</td>\n",
       "      <td>1</td>\n",
       "      <td>1</td>\n",
       "      <td>1</td>\n",
       "      <td>101699.77</td>\n",
       "      <td>0</td>\n",
       "      <td>0</td>\n",
       "      <td>1</td>\n",
       "    </tr>\n",
       "    <tr>\n",
       "      <th>9997</th>\n",
       "      <td>709</td>\n",
       "      <td>36</td>\n",
       "      <td>7</td>\n",
       "      <td>0.00</td>\n",
       "      <td>1</td>\n",
       "      <td>0</td>\n",
       "      <td>1</td>\n",
       "      <td>42085.58</td>\n",
       "      <td>0</td>\n",
       "      <td>0</td>\n",
       "      <td>0</td>\n",
       "    </tr>\n",
       "    <tr>\n",
       "      <th>9998</th>\n",
       "      <td>772</td>\n",
       "      <td>42</td>\n",
       "      <td>3</td>\n",
       "      <td>75075.31</td>\n",
       "      <td>2</td>\n",
       "      <td>1</td>\n",
       "      <td>0</td>\n",
       "      <td>92888.52</td>\n",
       "      <td>1</td>\n",
       "      <td>0</td>\n",
       "      <td>1</td>\n",
       "    </tr>\n",
       "    <tr>\n",
       "      <th>9999</th>\n",
       "      <td>792</td>\n",
       "      <td>28</td>\n",
       "      <td>4</td>\n",
       "      <td>130142.79</td>\n",
       "      <td>1</td>\n",
       "      <td>1</td>\n",
       "      <td>0</td>\n",
       "      <td>38190.78</td>\n",
       "      <td>0</td>\n",
       "      <td>0</td>\n",
       "      <td>0</td>\n",
       "    </tr>\n",
       "  </tbody>\n",
       "</table>\n",
       "<p>10000 rows × 11 columns</p>\n",
       "</div>"
      ],
      "text/plain": [
       "      CreditScore  Age  Tenure    Balance  NumOfProducts  HasCrCard  \\\n",
       "0             619   42       2       0.00              1          1   \n",
       "1             608   41       1   83807.86              1          0   \n",
       "2             502   42       8  159660.80              3          1   \n",
       "3             699   39       1       0.00              2          0   \n",
       "4             850   43       2  125510.82              1          1   \n",
       "...           ...  ...     ...        ...            ...        ...   \n",
       "9995          771   39       5       0.00              2          1   \n",
       "9996          516   35      10   57369.61              1          1   \n",
       "9997          709   36       7       0.00              1          0   \n",
       "9998          772   42       3   75075.31              2          1   \n",
       "9999          792   28       4  130142.79              1          1   \n",
       "\n",
       "      IsActiveMember  EstimatedSalary  Geography_Germany  Geography_Spain  \\\n",
       "0                  1        101348.88                  0                0   \n",
       "1                  1        112542.58                  0                1   \n",
       "2                  0        113931.57                  0                0   \n",
       "3                  0         93826.63                  0                0   \n",
       "4                  1         79084.10                  0                1   \n",
       "...              ...              ...                ...              ...   \n",
       "9995               0         96270.64                  0                0   \n",
       "9996               1        101699.77                  0                0   \n",
       "9997               1         42085.58                  0                0   \n",
       "9998               0         92888.52                  1                0   \n",
       "9999               0         38190.78                  0                0   \n",
       "\n",
       "      Gender_Male  \n",
       "0               0  \n",
       "1               0  \n",
       "2               0  \n",
       "3               0  \n",
       "4               0  \n",
       "...           ...  \n",
       "9995            1  \n",
       "9996            1  \n",
       "9997            0  \n",
       "9998            1  \n",
       "9999            0  \n",
       "\n",
       "[10000 rows x 11 columns]"
      ]
     },
     "execution_count": 40,
     "metadata": {},
     "output_type": "execute_result"
    }
   ],
   "source": [
    "X"
   ]
  },
  {
   "cell_type": "code",
   "execution_count": 45,
   "id": "d29cc90b",
   "metadata": {},
   "outputs": [
    {
     "data": {
      "text/plain": [
       "array([1, 0, 1, ..., 1, 1, 0], dtype=int64)"
      ]
     },
     "execution_count": 45,
     "metadata": {},
     "output_type": "execute_result"
    }
   ],
   "source": [
    "y"
   ]
  },
  {
   "cell_type": "code",
   "execution_count": 46,
   "id": "c24ef38a",
   "metadata": {},
   "outputs": [
    {
     "data": {
      "text/plain": [
       "(8000, 11)"
      ]
     },
     "execution_count": 46,
     "metadata": {},
     "output_type": "execute_result"
    }
   ],
   "source": [
    "X_train.shape"
   ]
  },
  {
   "cell_type": "code",
   "execution_count": 47,
   "id": "3107052c",
   "metadata": {},
   "outputs": [
    {
     "data": {
      "text/plain": [
       "(2000,)"
      ]
     },
     "execution_count": 47,
     "metadata": {},
     "output_type": "execute_result"
    }
   ],
   "source": [
    "y_test.shape"
   ]
  },
  {
   "cell_type": "code",
   "execution_count": 51,
   "id": "3011ed8a",
   "metadata": {},
   "outputs": [],
   "source": [
    "#there are 11 column\n",
    "#means we are sending 11 epoch to the model i.e 8000 datapoint are send 11 time to the model"
   ]
  },
  {
   "cell_type": "code",
   "execution_count": 52,
   "id": "e9ec279d",
   "metadata": {},
   "outputs": [],
   "source": [
    "#let us make the unifrom scaling of all features"
   ]
  },
  {
   "cell_type": "code",
   "execution_count": 53,
   "id": "cce5db95",
   "metadata": {},
   "outputs": [],
   "source": [
    "from sklearn.preprocessing import StandardScaler\n",
    "scaler=StandardScaler()\n",
    "\n",
    "X_train_trf=scaler.fit_transform(X_train)\n",
    "X_test_trf=scaler.fit_transform(X_test)"
   ]
  },
  {
   "cell_type": "code",
   "execution_count": 54,
   "id": "35381710",
   "metadata": {},
   "outputs": [],
   "source": [
    "#lets us defined the ANN model"
   ]
  },
  {
   "cell_type": "code",
   "execution_count": 55,
   "id": "b06a6550",
   "metadata": {},
   "outputs": [
    {
     "name": "stdout",
     "output_type": "stream",
     "text": [
      "WARNING:tensorflow:From C:\\Users\\suraj\\anaconda3\\lib\\site-packages\\keras\\src\\losses.py:2976: The name tf.losses.sparse_softmax_cross_entropy is deprecated. Please use tf.compat.v1.losses.sparse_softmax_cross_entropy instead.\n",
      "\n"
     ]
    }
   ],
   "source": [
    "import tensorflow\n",
    "from tensorflow import keras\n",
    "from tensorflow.keras import Sequential\n",
    "from tensorflow.keras.layers import Dense"
   ]
  },
  {
   "cell_type": "code",
   "execution_count": 56,
   "id": "f31bfc59",
   "metadata": {},
   "outputs": [],
   "source": [
    "#now let us define ANN model"
   ]
  },
  {
   "cell_type": "code",
   "execution_count": 58,
   "id": "79c2f944",
   "metadata": {},
   "outputs": [
    {
     "name": "stdout",
     "output_type": "stream",
     "text": [
      "WARNING:tensorflow:From C:\\Users\\suraj\\anaconda3\\lib\\site-packages\\keras\\src\\backend.py:873: The name tf.get_default_graph is deprecated. Please use tf.compat.v1.get_default_graph instead.\n",
      "\n"
     ]
    }
   ],
   "source": [
    "model=Sequential()\n",
    "\n",
    "model.add(Dense(3, activation='sigmoid', input_dim=11))\n",
    "          \n",
    "model.add(Dense(1, activation='sigmoid'))"
   ]
  },
  {
   "cell_type": "code",
   "execution_count": 61,
   "id": "5f423b3d",
   "metadata": {},
   "outputs": [
    {
     "name": "stdout",
     "output_type": "stream",
     "text": [
      "Model: \"sequential\"\n",
      "_________________________________________________________________\n",
      " Layer (type)                Output Shape              Param #   \n",
      "=================================================================\n",
      " dense (Dense)               (None, 3)                 36        \n",
      "                                                                 \n",
      " dense_1 (Dense)             (None, 1)                 4         \n",
      "                                                                 \n",
      "=================================================================\n",
      "Total params: 40 (160.00 Byte)\n",
      "Trainable params: 40 (160.00 Byte)\n",
      "Non-trainable params: 0 (0.00 Byte)\n",
      "_________________________________________________________________\n"
     ]
    }
   ],
   "source": [
    "model.summary()"
   ]
  },
  {
   "cell_type": "code",
   "execution_count": null,
   "id": "815e3de9",
   "metadata": {},
   "outputs": [],
   "source": [
    "#there are 11 feature andinput links are 3so 11x3=33 and 3 bias= 33+3=36\n",
    "#In 2nd layer  3 hiddend layer and 1 bias output so there are \n",
    "#40 parameters are present iin the dataset"
   ]
  },
  {
   "cell_type": "code",
   "execution_count": 64,
   "id": "b32edac1",
   "metadata": {},
   "outputs": [
    {
     "name": "stdout",
     "output_type": "stream",
     "text": [
      "WARNING:tensorflow:From C:\\Users\\suraj\\anaconda3\\lib\\site-packages\\keras\\src\\optimizers\\__init__.py:309: The name tf.train.Optimizer is deprecated. Please use tf.compat.v1.train.Optimizer instead.\n",
      "\n"
     ]
    }
   ],
   "source": [
    "model.compile(optimizer='adam', loss='binary_crossentropy')"
   ]
  },
  {
   "cell_type": "code",
   "execution_count": 65,
   "id": "2ed9d94b",
   "metadata": {},
   "outputs": [
    {
     "name": "stdout",
     "output_type": "stream",
     "text": [
      "Epoch 1/10\n",
      "WARNING:tensorflow:From C:\\Users\\suraj\\anaconda3\\lib\\site-packages\\keras\\src\\utils\\tf_utils.py:492: The name tf.ragged.RaggedTensorValue is deprecated. Please use tf.compat.v1.ragged.RaggedTensorValue instead.\n",
      "\n",
      "250/250 [==============================] - 3s 4ms/step - loss: 0.8894\n",
      "Epoch 2/10\n",
      "250/250 [==============================] - 1s 3ms/step - loss: 0.6863\n",
      "Epoch 3/10\n",
      "250/250 [==============================] - 1s 3ms/step - loss: 0.5714\n",
      "Epoch 4/10\n",
      "250/250 [==============================] - 1s 3ms/step - loss: 0.5096\n",
      "Epoch 5/10\n",
      "250/250 [==============================] - 1s 3ms/step - loss: 0.4781\n",
      "Epoch 6/10\n",
      "250/250 [==============================] - 1s 3ms/step - loss: 0.4612\n",
      "Epoch 7/10\n",
      "250/250 [==============================] - 1s 3ms/step - loss: 0.4511\n",
      "Epoch 8/10\n",
      "250/250 [==============================] - 1s 3ms/step - loss: 0.4443\n",
      "Epoch 9/10\n",
      "250/250 [==============================] - 1s 3ms/step - loss: 0.4393\n",
      "Epoch 10/10\n",
      "250/250 [==============================] - 1s 3ms/step - loss: 0.4355\n"
     ]
    }
   ],
   "source": [
    "#lets us train the model\n",
    "history = model.fit(X_train_trf, y_train, epochs=10)"
   ]
  },
  {
   "cell_type": "code",
   "execution_count": 66,
   "id": "b9ab9d0b",
   "metadata": {},
   "outputs": [
    {
     "data": {
      "text/plain": [
       "[array([[ 0.2149122 ,  0.07232375,  0.16122998],\n",
       "        [-1.5550425 ,  1.1739616 , -0.78083676],\n",
       "        [ 0.13988529, -0.18247615, -0.11650051],\n",
       "        [ 0.19404653,  0.7385282 , -0.05903963],\n",
       "        [ 0.9497832 ,  0.32175046,  0.485302  ],\n",
       "        [ 0.05085263, -0.22210681, -0.3287728 ],\n",
       "        [ 0.48920098, -0.74549204,  1.0613976 ],\n",
       "        [ 0.03144955,  0.05149006, -0.22485903],\n",
       "        [-0.7174134 ,  0.40528092, -0.7905007 ],\n",
       "        [ 0.04997319,  0.0585838 , -0.23061496],\n",
       "        [ 0.5071446 , -0.32050937,  0.57973146]], dtype=float32),\n",
       " array([ 1.0313052 , -0.6398845 ,  0.39244926], dtype=float32)]"
      ]
     },
     "execution_count": 66,
     "metadata": {},
     "output_type": "execute_result"
    }
   ],
   "source": [
    "#now let us check final weights after training\n",
    "model.layers[0]. get_weights()"
   ]
  },
  {
   "cell_type": "code",
   "execution_count": 67,
   "id": "0e62ff9b",
   "metadata": {},
   "outputs": [
    {
     "data": {
      "text/plain": [
       "[array([[-1.0568105 ],\n",
       "        [ 0.8710154 ],\n",
       "        [-0.62234414]], dtype=float32),\n",
       " array([-0.79592425], dtype=float32)]"
      ]
     },
     "execution_count": 67,
     "metadata": {},
     "output_type": "execute_result"
    }
   ],
   "source": [
    "model.layers[1].get_weights()"
   ]
  },
  {
   "cell_type": "code",
   "execution_count": 68,
   "id": "0bec7052",
   "metadata": {},
   "outputs": [],
   "source": [
    "#33 weights"
   ]
  },
  {
   "cell_type": "code",
   "execution_count": 69,
   "id": "bd8ce1dc",
   "metadata": {},
   "outputs": [],
   "source": [
    "#3 weights and 1 bias"
   ]
  },
  {
   "cell_type": "code",
   "execution_count": 70,
   "id": "bbbabfad",
   "metadata": {},
   "outputs": [
    {
     "name": "stdout",
     "output_type": "stream",
     "text": [
      "63/63 [==============================] - 0s 2ms/step\n"
     ]
    }
   ],
   "source": [
    "y_log= model.predict(X_test_trf)"
   ]
  },
  {
   "cell_type": "code",
   "execution_count": 71,
   "id": "8855df0b",
   "metadata": {},
   "outputs": [
    {
     "data": {
      "text/plain": [
       "array([[0.24453408],\n",
       "       [0.32989877],\n",
       "       [0.16843759],\n",
       "       ...,\n",
       "       [0.17583823],\n",
       "       [0.14452128],\n",
       "       [0.22917129]], dtype=float32)"
      ]
     },
     "execution_count": 71,
     "metadata": {},
     "output_type": "execute_result"
    }
   ],
   "source": [
    "y_log"
   ]
  },
  {
   "cell_type": "code",
   "execution_count": 72,
   "id": "4036164f",
   "metadata": {},
   "outputs": [],
   "source": [
    "#the output is in terms of probability since you are using the sigmoid activation\n",
    "#if the output is less that 0.5 then output 0 means customer will\n",
    "#leave the bamk and if output greatre than 0.5 then 1 menas \n",
    "#customer are retain the bank"
   ]
  },
  {
   "cell_type": "code",
   "execution_count": 74,
   "id": "0f6374dd",
   "metadata": {},
   "outputs": [],
   "source": [
    "y_pred=np.where(y_log>0.5, 1,0)"
   ]
  },
  {
   "cell_type": "code",
   "execution_count": 75,
   "id": "f0c1f9d1",
   "metadata": {},
   "outputs": [
    {
     "data": {
      "text/plain": [
       "array([[0],\n",
       "       [0],\n",
       "       [0],\n",
       "       ...,\n",
       "       [0],\n",
       "       [0],\n",
       "       [0]])"
      ]
     },
     "execution_count": 75,
     "metadata": {},
     "output_type": "execute_result"
    }
   ],
   "source": [
    "y_pred"
   ]
  },
  {
   "cell_type": "code",
   "execution_count": 76,
   "id": "0a3d2ab3",
   "metadata": {},
   "outputs": [
    {
     "data": {
      "text/plain": [
       "0.803"
      ]
     },
     "execution_count": 76,
     "metadata": {},
     "output_type": "execute_result"
    }
   ],
   "source": [
    "from sklearn.metrics import accuracy_score\n",
    "accuracy_score(y_test, y_pred)"
   ]
  },
  {
   "cell_type": "code",
   "execution_count": 77,
   "id": "cf6614df",
   "metadata": {},
   "outputs": [],
   "source": [
    "#lets us incresas the number of nodes and layes also"
   ]
  },
  {
   "cell_type": "code",
   "execution_count": 80,
   "id": "49f846f3",
   "metadata": {},
   "outputs": [],
   "source": [
    "model=Sequential()\n",
    "\n",
    "model.add(Dense(11, activation='relu', input_dim=11))\n",
    "          \n",
    "model.add(Dense(11, activation='relu', input_dim=11))\n",
    "model.add(Dense(1 ,activation='sigmoid'))"
   ]
  },
  {
   "cell_type": "code",
   "execution_count": 81,
   "id": "ed2b8977",
   "metadata": {},
   "outputs": [
    {
     "name": "stdout",
     "output_type": "stream",
     "text": [
      "Model: \"sequential_1\"\n",
      "_________________________________________________________________\n",
      " Layer (type)                Output Shape              Param #   \n",
      "=================================================================\n",
      " dense_2 (Dense)             (None, 11)                132       \n",
      "                                                                 \n",
      " dense_3 (Dense)             (None, 11)                132       \n",
      "                                                                 \n",
      " dense_4 (Dense)             (None, 1)                 12        \n",
      "                                                                 \n",
      "=================================================================\n",
      "Total params: 276 (1.08 KB)\n",
      "Trainable params: 276 (1.08 KB)\n",
      "Non-trainable params: 0 (0.00 Byte)\n",
      "_________________________________________________________________\n"
     ]
    }
   ],
   "source": [
    "model.summary()"
   ]
  },
  {
   "cell_type": "code",
   "execution_count": 82,
   "id": "875d3726",
   "metadata": {},
   "outputs": [],
   "source": [
    "#11x11+11 bias, 11x11+11, bias 11x11+1 bias =276"
   ]
  },
  {
   "cell_type": "code",
   "execution_count": 83,
   "id": "a3a7a3e6",
   "metadata": {},
   "outputs": [],
   "source": [
    "model.compile(optimizer='Adam', loss='binary_crossentropy', metrics=['accuracy'])"
   ]
  },
  {
   "cell_type": "code",
   "execution_count": 84,
   "id": "44db6b5c",
   "metadata": {},
   "outputs": [
    {
     "name": "stdout",
     "output_type": "stream",
     "text": [
      "Epoch 1/100\n",
      "WARNING:tensorflow:From C:\\Users\\suraj\\anaconda3\\lib\\site-packages\\keras\\src\\engine\\base_layer_utils.py:384: The name tf.executing_eagerly_outside_functions is deprecated. Please use tf.compat.v1.executing_eagerly_outside_functions instead.\n",
      "\n",
      "200/200 [==============================] - 3s 6ms/step - loss: 0.5155 - accuracy: 0.7881 - val_loss: 0.4805 - val_accuracy: 0.7969\n",
      "Epoch 2/100\n",
      "200/200 [==============================] - 1s 4ms/step - loss: 0.4604 - accuracy: 0.7958 - val_loss: 0.4551 - val_accuracy: 0.7969\n",
      "Epoch 3/100\n",
      "200/200 [==============================] - 1s 4ms/step - loss: 0.4393 - accuracy: 0.7958 - val_loss: 0.4407 - val_accuracy: 0.7969\n",
      "Epoch 4/100\n",
      "200/200 [==============================] - 1s 4ms/step - loss: 0.4272 - accuracy: 0.7967 - val_loss: 0.4311 - val_accuracy: 0.8037\n",
      "Epoch 5/100\n",
      "200/200 [==============================] - 1s 4ms/step - loss: 0.4177 - accuracy: 0.8123 - val_loss: 0.4214 - val_accuracy: 0.8213\n",
      "Epoch 6/100\n",
      "200/200 [==============================] - 1s 4ms/step - loss: 0.4056 - accuracy: 0.8275 - val_loss: 0.4085 - val_accuracy: 0.8331\n",
      "Epoch 7/100\n",
      "200/200 [==============================] - 1s 4ms/step - loss: 0.3899 - accuracy: 0.8414 - val_loss: 0.3947 - val_accuracy: 0.8487\n",
      "Epoch 8/100\n",
      "200/200 [==============================] - 1s 4ms/step - loss: 0.3751 - accuracy: 0.8514 - val_loss: 0.3833 - val_accuracy: 0.8487\n",
      "Epoch 9/100\n",
      "200/200 [==============================] - 1s 4ms/step - loss: 0.3635 - accuracy: 0.8553 - val_loss: 0.3755 - val_accuracy: 0.8562\n",
      "Epoch 10/100\n",
      "200/200 [==============================] - 1s 4ms/step - loss: 0.3550 - accuracy: 0.8580 - val_loss: 0.3698 - val_accuracy: 0.8531\n",
      "Epoch 11/100\n",
      "200/200 [==============================] - 1s 4ms/step - loss: 0.3493 - accuracy: 0.8564 - val_loss: 0.3669 - val_accuracy: 0.8544\n",
      "Epoch 12/100\n",
      "200/200 [==============================] - 1s 4ms/step - loss: 0.3451 - accuracy: 0.8575 - val_loss: 0.3625 - val_accuracy: 0.8525\n",
      "Epoch 13/100\n",
      "200/200 [==============================] - 1s 4ms/step - loss: 0.3426 - accuracy: 0.8600 - val_loss: 0.3604 - val_accuracy: 0.8525\n",
      "Epoch 14/100\n",
      "200/200 [==============================] - 1s 4ms/step - loss: 0.3399 - accuracy: 0.8608 - val_loss: 0.3604 - val_accuracy: 0.8550\n",
      "Epoch 15/100\n",
      "200/200 [==============================] - 1s 4ms/step - loss: 0.3383 - accuracy: 0.8609 - val_loss: 0.3594 - val_accuracy: 0.8537\n",
      "Epoch 16/100\n",
      "200/200 [==============================] - 1s 4ms/step - loss: 0.3370 - accuracy: 0.8620 - val_loss: 0.3577 - val_accuracy: 0.8544\n",
      "Epoch 17/100\n",
      "200/200 [==============================] - 1s 4ms/step - loss: 0.3355 - accuracy: 0.8600 - val_loss: 0.3579 - val_accuracy: 0.8544\n",
      "Epoch 18/100\n",
      "200/200 [==============================] - 1s 4ms/step - loss: 0.3343 - accuracy: 0.8605 - val_loss: 0.3565 - val_accuracy: 0.8569\n",
      "Epoch 19/100\n",
      "200/200 [==============================] - 1s 4ms/step - loss: 0.3337 - accuracy: 0.8619 - val_loss: 0.3556 - val_accuracy: 0.8569\n",
      "Epoch 20/100\n",
      "200/200 [==============================] - 1s 4ms/step - loss: 0.3329 - accuracy: 0.8600 - val_loss: 0.3550 - val_accuracy: 0.8525\n",
      "Epoch 21/100\n",
      "200/200 [==============================] - 1s 4ms/step - loss: 0.3322 - accuracy: 0.8617 - val_loss: 0.3578 - val_accuracy: 0.8537\n",
      "Epoch 22/100\n",
      "200/200 [==============================] - 1s 4ms/step - loss: 0.3321 - accuracy: 0.8631 - val_loss: 0.3551 - val_accuracy: 0.8587\n",
      "Epoch 23/100\n",
      "200/200 [==============================] - 1s 4ms/step - loss: 0.3310 - accuracy: 0.8647 - val_loss: 0.3541 - val_accuracy: 0.8619\n",
      "Epoch 24/100\n",
      "200/200 [==============================] - 1s 4ms/step - loss: 0.3301 - accuracy: 0.8628 - val_loss: 0.3565 - val_accuracy: 0.8537\n",
      "Epoch 25/100\n",
      "200/200 [==============================] - 1s 4ms/step - loss: 0.3304 - accuracy: 0.8645 - val_loss: 0.3534 - val_accuracy: 0.8594\n",
      "Epoch 26/100\n",
      "200/200 [==============================] - 1s 4ms/step - loss: 0.3296 - accuracy: 0.8623 - val_loss: 0.3529 - val_accuracy: 0.8581\n",
      "Epoch 27/100\n",
      "200/200 [==============================] - 1s 4ms/step - loss: 0.3292 - accuracy: 0.8642 - val_loss: 0.3542 - val_accuracy: 0.8600\n",
      "Epoch 28/100\n",
      "200/200 [==============================] - 1s 4ms/step - loss: 0.3285 - accuracy: 0.8658 - val_loss: 0.3545 - val_accuracy: 0.8556\n",
      "Epoch 29/100\n",
      "200/200 [==============================] - 1s 4ms/step - loss: 0.3285 - accuracy: 0.8642 - val_loss: 0.3542 - val_accuracy: 0.8587\n",
      "Epoch 30/100\n",
      "200/200 [==============================] - 1s 4ms/step - loss: 0.3280 - accuracy: 0.8627 - val_loss: 0.3535 - val_accuracy: 0.8612\n",
      "Epoch 31/100\n",
      "200/200 [==============================] - 1s 4ms/step - loss: 0.3279 - accuracy: 0.8650 - val_loss: 0.3538 - val_accuracy: 0.8581\n",
      "Epoch 32/100\n",
      "200/200 [==============================] - 1s 4ms/step - loss: 0.3271 - accuracy: 0.8661 - val_loss: 0.3526 - val_accuracy: 0.8600\n",
      "Epoch 33/100\n",
      "200/200 [==============================] - 1s 4ms/step - loss: 0.3269 - accuracy: 0.8647 - val_loss: 0.3526 - val_accuracy: 0.8600\n",
      "Epoch 34/100\n",
      "200/200 [==============================] - 1s 5ms/step - loss: 0.3267 - accuracy: 0.8650 - val_loss: 0.3544 - val_accuracy: 0.8606\n",
      "Epoch 35/100\n",
      "200/200 [==============================] - 1s 4ms/step - loss: 0.3264 - accuracy: 0.8653 - val_loss: 0.3522 - val_accuracy: 0.8619\n",
      "Epoch 36/100\n",
      "200/200 [==============================] - 1s 4ms/step - loss: 0.3260 - accuracy: 0.8652 - val_loss: 0.3534 - val_accuracy: 0.8600\n",
      "Epoch 37/100\n",
      "200/200 [==============================] - 1s 4ms/step - loss: 0.3259 - accuracy: 0.8653 - val_loss: 0.3526 - val_accuracy: 0.8606\n",
      "Epoch 38/100\n",
      "200/200 [==============================] - 1s 4ms/step - loss: 0.3255 - accuracy: 0.8661 - val_loss: 0.3522 - val_accuracy: 0.8594\n",
      "Epoch 39/100\n",
      "200/200 [==============================] - 1s 4ms/step - loss: 0.3255 - accuracy: 0.8652 - val_loss: 0.3541 - val_accuracy: 0.8600\n",
      "Epoch 40/100\n",
      "200/200 [==============================] - 1s 4ms/step - loss: 0.3253 - accuracy: 0.8675 - val_loss: 0.3524 - val_accuracy: 0.8594\n",
      "Epoch 41/100\n",
      "200/200 [==============================] - 1s 4ms/step - loss: 0.3244 - accuracy: 0.8650 - val_loss: 0.3530 - val_accuracy: 0.8600\n",
      "Epoch 42/100\n",
      "200/200 [==============================] - 1s 4ms/step - loss: 0.3245 - accuracy: 0.8653 - val_loss: 0.3526 - val_accuracy: 0.8606\n",
      "Epoch 43/100\n",
      "200/200 [==============================] - 1s 4ms/step - loss: 0.3240 - accuracy: 0.8662 - val_loss: 0.3522 - val_accuracy: 0.8606\n",
      "Epoch 44/100\n",
      "200/200 [==============================] - 1s 4ms/step - loss: 0.3234 - accuracy: 0.8666 - val_loss: 0.3537 - val_accuracy: 0.8600\n",
      "Epoch 45/100\n",
      "200/200 [==============================] - 1s 4ms/step - loss: 0.3240 - accuracy: 0.8656 - val_loss: 0.3526 - val_accuracy: 0.8606\n",
      "Epoch 46/100\n",
      "200/200 [==============================] - 1s 4ms/step - loss: 0.3237 - accuracy: 0.8656 - val_loss: 0.3523 - val_accuracy: 0.8619\n",
      "Epoch 47/100\n",
      "200/200 [==============================] - 1s 4ms/step - loss: 0.3237 - accuracy: 0.8662 - val_loss: 0.3535 - val_accuracy: 0.8606\n",
      "Epoch 48/100\n",
      "200/200 [==============================] - 1s 4ms/step - loss: 0.3236 - accuracy: 0.8677 - val_loss: 0.3527 - val_accuracy: 0.8606\n",
      "Epoch 49/100\n",
      "200/200 [==============================] - 1s 4ms/step - loss: 0.3228 - accuracy: 0.8670 - val_loss: 0.3544 - val_accuracy: 0.8606\n",
      "Epoch 50/100\n",
      "200/200 [==============================] - 1s 4ms/step - loss: 0.3227 - accuracy: 0.8667 - val_loss: 0.3525 - val_accuracy: 0.8587\n",
      "Epoch 51/100\n",
      "200/200 [==============================] - 1s 4ms/step - loss: 0.3228 - accuracy: 0.8670 - val_loss: 0.3534 - val_accuracy: 0.8619\n",
      "Epoch 52/100\n",
      "200/200 [==============================] - 1s 4ms/step - loss: 0.3226 - accuracy: 0.8677 - val_loss: 0.3537 - val_accuracy: 0.8619\n",
      "Epoch 53/100\n",
      "200/200 [==============================] - 1s 4ms/step - loss: 0.3222 - accuracy: 0.8666 - val_loss: 0.3533 - val_accuracy: 0.8606\n",
      "Epoch 54/100\n",
      "200/200 [==============================] - 1s 4ms/step - loss: 0.3220 - accuracy: 0.8673 - val_loss: 0.3553 - val_accuracy: 0.8612\n",
      "Epoch 55/100\n",
      "200/200 [==============================] - 1s 4ms/step - loss: 0.3223 - accuracy: 0.8681 - val_loss: 0.3561 - val_accuracy: 0.8606\n",
      "Epoch 56/100\n",
      "200/200 [==============================] - 1s 4ms/step - loss: 0.3218 - accuracy: 0.8667 - val_loss: 0.3546 - val_accuracy: 0.8606\n",
      "Epoch 57/100\n",
      "200/200 [==============================] - 1s 4ms/step - loss: 0.3216 - accuracy: 0.8687 - val_loss: 0.3542 - val_accuracy: 0.8612\n",
      "Epoch 58/100\n",
      "200/200 [==============================] - 1s 4ms/step - loss: 0.3215 - accuracy: 0.8687 - val_loss: 0.3549 - val_accuracy: 0.8625\n",
      "Epoch 59/100\n",
      "200/200 [==============================] - 1s 4ms/step - loss: 0.3211 - accuracy: 0.8686 - val_loss: 0.3546 - val_accuracy: 0.8612\n",
      "Epoch 60/100\n",
      "200/200 [==============================] - 1s 4ms/step - loss: 0.3220 - accuracy: 0.8684 - val_loss: 0.3542 - val_accuracy: 0.8619\n",
      "Epoch 61/100\n",
      "200/200 [==============================] - 1s 4ms/step - loss: 0.3215 - accuracy: 0.8670 - val_loss: 0.3557 - val_accuracy: 0.8587\n",
      "Epoch 62/100\n",
      "200/200 [==============================] - 1s 4ms/step - loss: 0.3207 - accuracy: 0.8684 - val_loss: 0.3561 - val_accuracy: 0.8606\n",
      "Epoch 63/100\n",
      "200/200 [==============================] - 1s 4ms/step - loss: 0.3207 - accuracy: 0.8675 - val_loss: 0.3557 - val_accuracy: 0.8600\n",
      "Epoch 64/100\n",
      "200/200 [==============================] - 1s 4ms/step - loss: 0.3209 - accuracy: 0.8683 - val_loss: 0.3569 - val_accuracy: 0.8581\n",
      "Epoch 65/100\n",
      "200/200 [==============================] - 1s 4ms/step - loss: 0.3204 - accuracy: 0.8667 - val_loss: 0.3560 - val_accuracy: 0.8600\n",
      "Epoch 66/100\n",
      "200/200 [==============================] - 1s 4ms/step - loss: 0.3206 - accuracy: 0.8681 - val_loss: 0.3580 - val_accuracy: 0.8575\n",
      "Epoch 67/100\n",
      "200/200 [==============================] - 1s 4ms/step - loss: 0.3207 - accuracy: 0.8675 - val_loss: 0.3563 - val_accuracy: 0.8594\n",
      "Epoch 68/100\n",
      "200/200 [==============================] - 1s 4ms/step - loss: 0.3203 - accuracy: 0.8694 - val_loss: 0.3575 - val_accuracy: 0.8562\n",
      "Epoch 69/100\n",
      "200/200 [==============================] - 1s 4ms/step - loss: 0.3199 - accuracy: 0.8681 - val_loss: 0.3582 - val_accuracy: 0.8556\n",
      "Epoch 70/100\n",
      "200/200 [==============================] - 1s 4ms/step - loss: 0.3199 - accuracy: 0.8669 - val_loss: 0.3564 - val_accuracy: 0.8612\n",
      "Epoch 71/100\n",
      "200/200 [==============================] - 1s 4ms/step - loss: 0.3198 - accuracy: 0.8678 - val_loss: 0.3564 - val_accuracy: 0.8600\n",
      "Epoch 72/100\n",
      "200/200 [==============================] - 1s 4ms/step - loss: 0.3192 - accuracy: 0.8687 - val_loss: 0.3556 - val_accuracy: 0.8612\n",
      "Epoch 73/100\n",
      "200/200 [==============================] - 1s 4ms/step - loss: 0.3197 - accuracy: 0.8686 - val_loss: 0.3560 - val_accuracy: 0.8612\n",
      "Epoch 74/100\n",
      "200/200 [==============================] - 1s 4ms/step - loss: 0.3198 - accuracy: 0.8684 - val_loss: 0.3562 - val_accuracy: 0.8619\n",
      "Epoch 75/100\n",
      "200/200 [==============================] - 1s 4ms/step - loss: 0.3197 - accuracy: 0.8680 - val_loss: 0.3566 - val_accuracy: 0.8600\n",
      "Epoch 76/100\n",
      "200/200 [==============================] - 1s 4ms/step - loss: 0.3196 - accuracy: 0.8694 - val_loss: 0.3575 - val_accuracy: 0.8612\n",
      "Epoch 77/100\n",
      "200/200 [==============================] - 1s 4ms/step - loss: 0.3193 - accuracy: 0.8691 - val_loss: 0.3563 - val_accuracy: 0.8594\n",
      "Epoch 78/100\n",
      "200/200 [==============================] - 1s 4ms/step - loss: 0.3189 - accuracy: 0.8677 - val_loss: 0.3565 - val_accuracy: 0.8612\n",
      "Epoch 79/100\n",
      "200/200 [==============================] - 1s 4ms/step - loss: 0.3193 - accuracy: 0.8697 - val_loss: 0.3561 - val_accuracy: 0.8606\n",
      "Epoch 80/100\n",
      "200/200 [==============================] - 1s 4ms/step - loss: 0.3188 - accuracy: 0.8684 - val_loss: 0.3560 - val_accuracy: 0.8594\n",
      "Epoch 81/100\n",
      "200/200 [==============================] - 1s 4ms/step - loss: 0.3193 - accuracy: 0.8689 - val_loss: 0.3582 - val_accuracy: 0.8531\n",
      "Epoch 82/100\n",
      "200/200 [==============================] - 1s 4ms/step - loss: 0.3192 - accuracy: 0.8692 - val_loss: 0.3565 - val_accuracy: 0.8581\n",
      "Epoch 83/100\n",
      "200/200 [==============================] - 1s 4ms/step - loss: 0.3184 - accuracy: 0.8702 - val_loss: 0.3579 - val_accuracy: 0.8600\n",
      "Epoch 84/100\n",
      "200/200 [==============================] - 1s 4ms/step - loss: 0.3187 - accuracy: 0.8691 - val_loss: 0.3573 - val_accuracy: 0.8575\n",
      "Epoch 85/100\n",
      "200/200 [==============================] - 1s 4ms/step - loss: 0.3181 - accuracy: 0.8691 - val_loss: 0.3582 - val_accuracy: 0.8587\n",
      "Epoch 86/100\n",
      "200/200 [==============================] - 1s 4ms/step - loss: 0.3187 - accuracy: 0.8697 - val_loss: 0.3574 - val_accuracy: 0.8587\n",
      "Epoch 87/100\n",
      "200/200 [==============================] - 1s 4ms/step - loss: 0.3183 - accuracy: 0.8691 - val_loss: 0.3575 - val_accuracy: 0.8575\n",
      "Epoch 88/100\n",
      "200/200 [==============================] - 1s 4ms/step - loss: 0.3183 - accuracy: 0.8677 - val_loss: 0.3578 - val_accuracy: 0.8581\n",
      "Epoch 89/100\n",
      "200/200 [==============================] - 1s 4ms/step - loss: 0.3179 - accuracy: 0.8683 - val_loss: 0.3574 - val_accuracy: 0.8606\n",
      "Epoch 90/100\n",
      "200/200 [==============================] - 1s 4ms/step - loss: 0.3182 - accuracy: 0.8683 - val_loss: 0.3573 - val_accuracy: 0.8587\n",
      "Epoch 91/100\n",
      "200/200 [==============================] - 1s 4ms/step - loss: 0.3181 - accuracy: 0.8700 - val_loss: 0.3573 - val_accuracy: 0.8550\n",
      "Epoch 92/100\n",
      "200/200 [==============================] - 1s 4ms/step - loss: 0.3184 - accuracy: 0.8687 - val_loss: 0.3588 - val_accuracy: 0.8581\n",
      "Epoch 93/100\n",
      "200/200 [==============================] - 1s 4ms/step - loss: 0.3175 - accuracy: 0.8680 - val_loss: 0.3573 - val_accuracy: 0.8581\n",
      "Epoch 94/100\n",
      "200/200 [==============================] - 1s 4ms/step - loss: 0.3175 - accuracy: 0.8684 - val_loss: 0.3580 - val_accuracy: 0.8562\n",
      "Epoch 95/100\n",
      "200/200 [==============================] - 1s 4ms/step - loss: 0.3174 - accuracy: 0.8687 - val_loss: 0.3571 - val_accuracy: 0.8581\n",
      "Epoch 96/100\n",
      "200/200 [==============================] - 1s 4ms/step - loss: 0.3174 - accuracy: 0.8706 - val_loss: 0.3598 - val_accuracy: 0.8562\n",
      "Epoch 97/100\n",
      "200/200 [==============================] - 1s 5ms/step - loss: 0.3175 - accuracy: 0.8669 - val_loss: 0.3584 - val_accuracy: 0.8581\n",
      "Epoch 98/100\n",
      "200/200 [==============================] - 1s 4ms/step - loss: 0.3175 - accuracy: 0.8683 - val_loss: 0.3591 - val_accuracy: 0.8612\n",
      "Epoch 99/100\n",
      "200/200 [==============================] - 1s 4ms/step - loss: 0.3170 - accuracy: 0.8702 - val_loss: 0.3610 - val_accuracy: 0.8531\n",
      "Epoch 100/100\n",
      "200/200 [==============================] - 1s 4ms/step - loss: 0.3171 - accuracy: 0.8673 - val_loss: 0.3596 - val_accuracy: 0.8594\n"
     ]
    }
   ],
   "source": [
    "history = model.fit(X_train_trf, y_train, epochs=100, validation_split=0.2)"
   ]
  },
  {
   "cell_type": "code",
   "execution_count": null,
   "id": "85b8cd49",
   "metadata": {},
   "outputs": [],
   "source": [
    "#validation accuracy:- 100 ===>80/20--> traing/testing,,80====> 60/20--->traing/validation_accuracy "
   ]
  },
  {
   "cell_type": "code",
   "execution_count": 88,
   "id": "a675e2d6",
   "metadata": {},
   "outputs": [
    {
     "data": {
      "text/plain": [
       "[<matplotlib.lines.Line2D at 0x28dca8224a0>]"
      ]
     },
     "execution_count": 88,
     "metadata": {},
     "output_type": "execute_result"
    },
    {
     "data": {
      "image/png": "[encoded data removed]",
      "text/plain": [
       "<Figure size 640x480 with 1 Axes>"
      ]
     },
     "metadata": {},
     "output_type": "display_data"
    }
   ],
   "source": [
    "import matplotlib.pyplot as plt\n",
    "plt.plot(history.history['accuracy'])\n",
    "plt.plot(history.history['val_accuracy'])"
   ]
  },
  {
   "cell_type": "code",
   "execution_count": 89,
   "id": "a3a50dbb",
   "metadata": {},
   "outputs": [
    {
     "name": "stdout",
     "output_type": "stream",
     "text": [
      "250/250 [==============================] - 1s 2ms/step\n"
     ]
    }
   ],
   "source": [
    "y_log= model.predict(X_train_trf)"
   ]
  },
  {
   "cell_type": "code",
   "execution_count": 90,
   "id": "e707f70b",
   "metadata": {},
   "outputs": [
    {
     "data": {
      "text/plain": [
       "0.803"
      ]
     },
     "execution_count": 90,
     "metadata": {},
     "output_type": "execute_result"
    }
   ],
   "source": [
    "from sklearn.metrics import accuracy_score\n",
    "accuracy_score(y_test, y_pred)"
   ]
  },
  {
   "cell_type": "code",
   "execution_count": 93,
   "id": "1f30a52e",
   "metadata": {},
   "outputs": [],
   "source": [
    "# now accuracy has been improved compared to ealriar 1"
   ]
  },
  {
   "cell_type": "code",
   "execution_count": 92,
   "id": "6ec384f7",
   "metadata": {},
   "outputs": [
    {
     "data": {
      "text/plain": [
       "{'loss': [0.5155391097068787,\n",
       "  0.46035927534103394,\n",
       "  0.439304918050766,\n",
       "  0.4272328317165375,\n",
       "  0.4176729619503021,\n",
       "  0.40560731291770935,\n",
       "  0.3899408280849457,\n",
       "  0.3750714063644409,\n",
       "  0.36351868510246277,\n",
       "  0.3549952805042267,\n",
       "  0.3493357002735138,\n",
       "  0.34510233998298645,\n",
       "  0.3426267206668854,\n",
       "  0.33993157744407654,\n",
       "  0.3383067846298218,\n",
       "  0.33697226643562317,\n",
       "  0.3355380594730377,\n",
       "  0.33433133363723755,\n",
       "  0.33367347717285156,\n",
       "  0.33294034004211426,\n",
       "  0.3321509063243866,\n",
       "  0.3321169316768646,\n",
       "  0.33100640773773193,\n",
       "  0.33006373047828674,\n",
       "  0.3304283022880554,\n",
       "  0.3296090066432953,\n",
       "  0.3292037844657898,\n",
       "  0.32846760749816895,\n",
       "  0.32853373885154724,\n",
       "  0.3279642164707184,\n",
       "  0.32786309719085693,\n",
       "  0.32709309458732605,\n",
       "  0.3269425332546234,\n",
       "  0.3267040252685547,\n",
       "  0.3264046013355255,\n",
       "  0.3259943425655365,\n",
       "  0.32586410641670227,\n",
       "  0.32548943161964417,\n",
       "  0.3255152106285095,\n",
       "  0.32532092928886414,\n",
       "  0.3244155943393707,\n",
       "  0.32453927397727966,\n",
       "  0.3240211606025696,\n",
       "  0.3234182596206665,\n",
       "  0.324020653963089,\n",
       "  0.32368049025535583,\n",
       "  0.32372531294822693,\n",
       "  0.3235907256603241,\n",
       "  0.32281312346458435,\n",
       "  0.3227351903915405,\n",
       "  0.3228214681148529,\n",
       "  0.32257819175720215,\n",
       "  0.3222336173057556,\n",
       "  0.3219863772392273,\n",
       "  0.32226234674453735,\n",
       "  0.3217814266681671,\n",
       "  0.3215985596179962,\n",
       "  0.321501761674881,\n",
       "  0.32110804319381714,\n",
       "  0.3220267593860626,\n",
       "  0.3214547038078308,\n",
       "  0.3207094669342041,\n",
       "  0.320738285779953,\n",
       "  0.3209494650363922,\n",
       "  0.32044699788093567,\n",
       "  0.3205660283565521,\n",
       "  0.3207094073295593,\n",
       "  0.32028406858444214,\n",
       "  0.3199196755886078,\n",
       "  0.319916695356369,\n",
       "  0.31980177760124207,\n",
       "  0.31921473145484924,\n",
       "  0.3196903169155121,\n",
       "  0.31975090503692627,\n",
       "  0.3196873068809509,\n",
       "  0.31962850689888,\n",
       "  0.3193460702896118,\n",
       "  0.31885677576065063,\n",
       "  0.3193371593952179,\n",
       "  0.31877651810646057,\n",
       "  0.3193468749523163,\n",
       "  0.3191673457622528,\n",
       "  0.31844887137413025,\n",
       "  0.31868353486061096,\n",
       "  0.3180645704269409,\n",
       "  0.3187410235404968,\n",
       "  0.31831255555152893,\n",
       "  0.3183111846446991,\n",
       "  0.3178587257862091,\n",
       "  0.31824636459350586,\n",
       "  0.3180728554725647,\n",
       "  0.31835538148880005,\n",
       "  0.31754109263420105,\n",
       "  0.3174755573272705,\n",
       "  0.317404568195343,\n",
       "  0.3174010217189789,\n",
       "  0.3174583911895752,\n",
       "  0.31749218702316284,\n",
       "  0.31695353984832764,\n",
       "  0.3171420395374298],\n",
       " 'accuracy': [0.7881249785423279,\n",
       "  0.7957812547683716,\n",
       "  0.7957812547683716,\n",
       "  0.7967187762260437,\n",
       "  0.8123437762260437,\n",
       "  0.8274999856948853,\n",
       "  0.8414062261581421,\n",
       "  0.8514062762260437,\n",
       "  0.8553125262260437,\n",
       "  0.8579687476158142,\n",
       "  0.8564062714576721,\n",
       "  0.8575000166893005,\n",
       "  0.8600000143051147,\n",
       "  0.8607812523841858,\n",
       "  0.8609374761581421,\n",
       "  0.8620312213897705,\n",
       "  0.8600000143051147,\n",
       "  0.8604687452316284,\n",
       "  0.8618749976158142,\n",
       "  0.8600000143051147,\n",
       "  0.8617187738418579,\n",
       "  0.8631250262260437,\n",
       "  0.8646875023841858,\n",
       "  0.8628125190734863,\n",
       "  0.8645312786102295,\n",
       "  0.8623437285423279,\n",
       "  0.8642187714576721,\n",
       "  0.8657812476158142,\n",
       "  0.8642187714576721,\n",
       "  0.8626562356948853,\n",
       "  0.8650000095367432,\n",
       "  0.8660937547683716,\n",
       "  0.8646875023841858,\n",
       "  0.8650000095367432,\n",
       "  0.8653125166893005,\n",
       "  0.8651562333106995,\n",
       "  0.8653125166893005,\n",
       "  0.8660937547683716,\n",
       "  0.8651562333106995,\n",
       "  0.8675000071525574,\n",
       "  0.8650000095367432,\n",
       "  0.8653125166893005,\n",
       "  0.8662499785423279,\n",
       "  0.8665624856948853,\n",
       "  0.8656250238418579,\n",
       "  0.8656250238418579,\n",
       "  0.8662499785423279,\n",
       "  0.8676562309265137,\n",
       "  0.8670312762260437,\n",
       "  0.8667187690734863,\n",
       "  0.8670312762260437,\n",
       "  0.8676562309265137,\n",
       "  0.8665624856948853,\n",
       "  0.8673437237739563,\n",
       "  0.8681250214576721,\n",
       "  0.8667187690734863,\n",
       "  0.8687499761581421,\n",
       "  0.8687499761581421,\n",
       "  0.8685937523841858,\n",
       "  0.8684375286102295,\n",
       "  0.8670312762260437,\n",
       "  0.8684375286102295,\n",
       "  0.8675000071525574,\n",
       "  0.8682812452316284,\n",
       "  0.8667187690734863,\n",
       "  0.8681250214576721,\n",
       "  0.8675000071525574,\n",
       "  0.8693749904632568,\n",
       "  0.8681250214576721,\n",
       "  0.8668749928474426,\n",
       "  0.8678125143051147,\n",
       "  0.8687499761581421,\n",
       "  0.8685937523841858,\n",
       "  0.8684375286102295,\n",
       "  0.867968738079071,\n",
       "  0.8693749904632568,\n",
       "  0.8690624833106995,\n",
       "  0.8676562309265137,\n",
       "  0.8696874976158142,\n",
       "  0.8684375286102295,\n",
       "  0.8689062595367432,\n",
       "  0.8692187666893005,\n",
       "  0.8701562285423279,\n",
       "  0.8690624833106995,\n",
       "  0.8690624833106995,\n",
       "  0.8696874976158142,\n",
       "  0.8690624833106995,\n",
       "  0.8676562309265137,\n",
       "  0.8682812452316284,\n",
       "  0.8682812452316284,\n",
       "  0.8700000047683716,\n",
       "  0.8687499761581421,\n",
       "  0.867968738079071,\n",
       "  0.8684375286102295,\n",
       "  0.8687499761581421,\n",
       "  0.8706250190734863,\n",
       "  0.8668749928474426,\n",
       "  0.8682812452316284,\n",
       "  0.8701562285423279,\n",
       "  0.8673437237739563],\n",
       " 'val_loss': [0.4805021286010742,\n",
       "  0.45506709814071655,\n",
       "  0.44068968296051025,\n",
       "  0.4310511648654938,\n",
       "  0.42136451601982117,\n",
       "  0.4085129201412201,\n",
       "  0.3947388827800751,\n",
       "  0.38326478004455566,\n",
       "  0.375486820936203,\n",
       "  0.36983397603034973,\n",
       "  0.36689701676368713,\n",
       "  0.3625430166721344,\n",
       "  0.3604051172733307,\n",
       "  0.36044588685035706,\n",
       "  0.3593847155570984,\n",
       "  0.3576763868331909,\n",
       "  0.3578963875770569,\n",
       "  0.3565167486667633,\n",
       "  0.35558608174324036,\n",
       "  0.355036199092865,\n",
       "  0.3577646017074585,\n",
       "  0.35510826110839844,\n",
       "  0.3540961444377899,\n",
       "  0.3564722537994385,\n",
       "  0.35339316725730896,\n",
       "  0.35290732979774475,\n",
       "  0.35415133833885193,\n",
       "  0.35450613498687744,\n",
       "  0.35419413447380066,\n",
       "  0.3534550368785858,\n",
       "  0.3537563383579254,\n",
       "  0.352569580078125,\n",
       "  0.352559894323349,\n",
       "  0.35437464714050293,\n",
       "  0.35221490263938904,\n",
       "  0.3533704876899719,\n",
       "  0.35260722041130066,\n",
       "  0.35223469138145447,\n",
       "  0.35410749912261963,\n",
       "  0.35239753127098083,\n",
       "  0.35298582911491394,\n",
       "  0.35262253880500793,\n",
       "  0.3522430658340454,\n",
       "  0.35370129346847534,\n",
       "  0.35261061787605286,\n",
       "  0.3523097634315491,\n",
       "  0.35348355770111084,\n",
       "  0.35267218947410583,\n",
       "  0.35444214940071106,\n",
       "  0.35246866941452026,\n",
       "  0.3533782660961151,\n",
       "  0.3536791503429413,\n",
       "  0.3533032238483429,\n",
       "  0.3553387522697449,\n",
       "  0.35607224702835083,\n",
       "  0.35463839769363403,\n",
       "  0.3542057275772095,\n",
       "  0.3548527956008911,\n",
       "  0.35456597805023193,\n",
       "  0.3542187809944153,\n",
       "  0.3556530475616455,\n",
       "  0.3560531735420227,\n",
       "  0.3556699752807617,\n",
       "  0.35691651701927185,\n",
       "  0.3559713065624237,\n",
       "  0.35796013474464417,\n",
       "  0.3563311696052551,\n",
       "  0.3574583828449249,\n",
       "  0.35815486311912537,\n",
       "  0.3563591241836548,\n",
       "  0.3564072549343109,\n",
       "  0.355587363243103,\n",
       "  0.3560338318347931,\n",
       "  0.35621947050094604,\n",
       "  0.3566235303878784,\n",
       "  0.3575044572353363,\n",
       "  0.3562745749950409,\n",
       "  0.3565254509449005,\n",
       "  0.35608765482902527,\n",
       "  0.3560139536857605,\n",
       "  0.35823607444763184,\n",
       "  0.3564976751804352,\n",
       "  0.35789981484413147,\n",
       "  0.3572584092617035,\n",
       "  0.3582049310207367,\n",
       "  0.35739991068840027,\n",
       "  0.35747620463371277,\n",
       "  0.3577631413936615,\n",
       "  0.3573550283908844,\n",
       "  0.35732001066207886,\n",
       "  0.35730111598968506,\n",
       "  0.35879752039909363,\n",
       "  0.35727059841156006,\n",
       "  0.3579886555671692,\n",
       "  0.35711222887039185,\n",
       "  0.3597879409790039,\n",
       "  0.358430415391922,\n",
       "  0.35913917422294617,\n",
       "  0.36103111505508423,\n",
       "  0.35961222648620605],\n",
       " 'val_accuracy': [0.796875,\n",
       "  0.796875,\n",
       "  0.796875,\n",
       "  0.8037499785423279,\n",
       "  0.8212500214576721,\n",
       "  0.8331249952316284,\n",
       "  0.8487499952316284,\n",
       "  0.8487499952316284,\n",
       "  0.856249988079071,\n",
       "  0.8531249761581421,\n",
       "  0.8543750047683716,\n",
       "  0.8525000214576721,\n",
       "  0.8525000214576721,\n",
       "  0.8550000190734863,\n",
       "  0.8537499904632568,\n",
       "  0.8543750047683716,\n",
       "  0.8543750047683716,\n",
       "  0.8568750023841858,\n",
       "  0.8568750023841858,\n",
       "  0.8525000214576721,\n",
       "  0.8537499904632568,\n",
       "  0.8587499856948853,\n",
       "  0.8618749976158142,\n",
       "  0.8537499904632568,\n",
       "  0.859375,\n",
       "  0.8581249713897705,\n",
       "  0.8600000143051147,\n",
       "  0.8556249737739563,\n",
       "  0.8587499856948853,\n",
       "  0.8612499833106995,\n",
       "  0.8581249713897705,\n",
       "  0.8600000143051147,\n",
       "  0.8600000143051147,\n",
       "  0.8606250286102295,\n",
       "  0.8618749976158142,\n",
       "  0.8600000143051147,\n",
       "  0.8606250286102295,\n",
       "  0.859375,\n",
       "  0.8600000143051147,\n",
       "  0.859375,\n",
       "  0.8600000143051147,\n",
       "  0.8606250286102295,\n",
       "  0.8606250286102295,\n",
       "  0.8600000143051147,\n",
       "  0.8606250286102295,\n",
       "  0.8618749976158142,\n",
       "  0.8606250286102295,\n",
       "  0.8606250286102295,\n",
       "  0.8606250286102295,\n",
       "  0.8587499856948853,\n",
       "  0.8618749976158142,\n",
       "  0.8618749976158142,\n",
       "  0.8606250286102295,\n",
       "  0.8612499833106995,\n",
       "  0.8606250286102295,\n",
       "  0.8606250286102295,\n",
       "  0.8612499833106995,\n",
       "  0.862500011920929,\n",
       "  0.8612499833106995,\n",
       "  0.8618749976158142,\n",
       "  0.8587499856948853,\n",
       "  0.8606250286102295,\n",
       "  0.8600000143051147,\n",
       "  0.8581249713897705,\n",
       "  0.8600000143051147,\n",
       "  0.8575000166893005,\n",
       "  0.859375,\n",
       "  0.856249988079071,\n",
       "  0.8556249737739563,\n",
       "  0.8612499833106995,\n",
       "  0.8600000143051147,\n",
       "  0.8612499833106995,\n",
       "  0.8612499833106995,\n",
       "  0.8618749976158142,\n",
       "  0.8600000143051147,\n",
       "  0.8612499833106995,\n",
       "  0.859375,\n",
       "  0.8612499833106995,\n",
       "  0.8606250286102295,\n",
       "  0.859375,\n",
       "  0.8531249761581421,\n",
       "  0.8581249713897705,\n",
       "  0.8600000143051147,\n",
       "  0.8575000166893005,\n",
       "  0.8587499856948853,\n",
       "  0.8587499856948853,\n",
       "  0.8575000166893005,\n",
       "  0.8581249713897705,\n",
       "  0.8606250286102295,\n",
       "  0.8587499856948853,\n",
       "  0.8550000190734863,\n",
       "  0.8581249713897705,\n",
       "  0.8581249713897705,\n",
       "  0.856249988079071,\n",
       "  0.8581249713897705,\n",
       "  0.856249988079071,\n",
       "  0.8581249713897705,\n",
       "  0.8612499833106995,\n",
       "  0.8531249761581421,\n",
       "  0.859375]}"
      ]
     },
     "execution_count": 92,
     "metadata": {},
     "output_type": "execute_result"
    }
   ],
   "source": [
    "history.history"
   ]
  },
  {
   "cell_type": "code",
   "execution_count": 95,
   "id": "16ce019e",
   "metadata": {},
   "outputs": [
    {
     "data": {
      "text/plain": [
       "[<matplotlib.lines.Line2D at 0x28dcb1605b0>]"
      ]
     },
     "execution_count": 95,
     "metadata": {},
     "output_type": "execute_result"
    },
    {
     "data": {
      "image/png": "[encoded data removed]",
      "text/plain": [
       "<Figure size 640x480 with 1 Axes>"
      ]
     },
     "metadata": {},
     "output_type": "display_data"
    }
   ],
   "source": [
    "import matplotlib.pyplot as plt\n",
    "plt.plot(history.history['loss'])"
   ]
  },
  {
   "cell_type": "code",
   "execution_count": 97,
   "id": "37b5f36d",
   "metadata": {},
   "outputs": [
    {
     "data": {
      "text/plain": [
       "[<matplotlib.lines.Line2D at 0x28dcb1bf5e0>]"
      ]
     },
     "execution_count": 97,
     "metadata": {},
     "output_type": "execute_result"
    },
    {
     "data": {
      "image/png": "[encoded data removed]",
      "text/plain": [
       "<Figure size 640x480 with 1 Axes>"
      ]
     },
     "metadata": {},
     "output_type": "display_data"
    }
   ],
   "source": [
    "plt.plot(history.history['val_loss'])"
   ]
  },
  {
   "cell_type": "code",
   "execution_count": 98,
   "id": "ca127388",
   "metadata": {},
   "outputs": [
    {
     "data": {
      "text/plain": [
       "[<matplotlib.lines.Line2D at 0x28dca955b10>]"
      ]
     },
     "execution_count": 98,
     "metadata": {},
     "output_type": "execute_result"
    },
    {
     "data": {
      "image/png": "[encoded data removed]",
      "text/plain": [
       "<Figure size 640x480 with 1 Axes>"
      ]
     },
     "metadata": {},
     "output_type": "display_data"
    }
   ],
   "source": [
    "plt.plot(history.history['val_loss'])\n",
    "plt.plot(history.history['loss'])"
   ]
  },
  {
   "cell_type": "code",
   "execution_count": null,
   "id": "e1044c20",
   "metadata": {},
   "outputs": [],
   "source": [
    "#iris dataset\n",
    "import seaborn as sns\n",
    "import pandas as pd\n",
    "import numpy as np\n",
    "import matplotlib.pyplot as plt \n",
    "from matplotlib import style\n",
    "style.use('dark_background')\n",
    "from IPython import display"
   ]
  },
  {
   "cell_type": "code",
   "execution_count": null,
   "id": "5d2e20b6",
   "metadata": {},
   "outputs": [],
   "source": [
    "iris =sns.load_dataset('iris')"
   ]
  }
 ],
 "metadata": {
  "kernelspec": {
   "display_name": "Python 3 (ipykernel)",
   "language": "python",
   "name": "python3"
  },
  "language_info": {
   "codemirror_mode": {
    "name": "ipython",
    "version": 3
   },
   "file_extension": ".py",
   "mimetype": "text/x-python",
   "name": "python",
   "nbconvert_exporter": "python",
   "pygments_lexer": "ipython3",
   "version": "3.10.9"
  }
 },
 "nbformat": 4,
 "nbformat_minor": 5
}
