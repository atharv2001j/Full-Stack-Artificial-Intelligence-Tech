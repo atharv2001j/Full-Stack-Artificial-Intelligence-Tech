{
 "cells": [
  {
   "cell_type": "code",
   "execution_count": 1,
   "id": "0153df23",
   "metadata": {},
   "outputs": [
    {
     "name": "stdout",
     "output_type": "stream",
     "text": [
      "WARNING:tensorflow:From C:\\Users\\suraj\\anaconda3\\lib\\site-packages\\keras\\src\\losses.py:2976: The name tf.losses.sparse_softmax_cross_entropy is deprecated. Please use tf.compat.v1.losses.sparse_softmax_cross_entropy instead.\n",
      "\n"
     ]
    }
   ],
   "source": [
    "import numpy as np\n",
    "import tensorflow as tf\n",
    "from tensorflow.keras.models import Sequential\n",
    "from tensorflow.keras.layers import Dense\n",
    "from tensorflow.keras.optimizers import SGD, Adam , RMSprop, Adagrad\n",
    "import matplotlib.pyplot as plt"
   ]
  },
  {
   "cell_type": "code",
   "execution_count": 2,
   "id": "e1ff9b6f",
   "metadata": {},
   "outputs": [
    {
     "data": {
      "text/plain": [
       "\"load the MNist dataset spliting it into traning and testing sets\\nX_train=X_train.reshape(X_train.shape[0], -1).astype('flaot32')/255\\nReshape the traning data from 28x28 image to 784 dimensional vectors,\\nconverts them to float32 and normalize the pixel value to the range[0,1]\\nX_test=X_test.reshape(X_test.shape[0], -1).astype('flaot32')/255\\nDoes the same preprocessing for the test data\""
      ]
     },
     "execution_count": 2,
     "metadata": {},
     "output_type": "execute_result"
    }
   ],
   "source": [
    "#load the dataset\n",
    "(X_train, y_train), (X_test, y_test)=tf.keras.datasets.mnist.load_data()\n",
    "'''load the MNist dataset spliting it into traning and testing sets\n",
    "X_train=X_train.reshape(X_train.shape[0], -1).astype('flaot32')/255\n",
    "Reshape the traning data from 28x28 image to 784 dimensional vectors,\n",
    "converts them to float32 and normalize the pixel value to the range[0,1]\n",
    "X_test=X_test.reshape(X_test.shape[0], -1).astype('flaot32')/255\n",
    "Does the same preprocessing for the test data'''"
   ]
  },
  {
   "cell_type": "code",
   "execution_count": 3,
   "id": "ebdd16f8",
   "metadata": {},
   "outputs": [
    {
     "data": {
      "text/plain": [
       "' X_tarin contains 60, 000 image of size 28x28 , then X_train.shape\\nwould be(60000, 28, 28)\\nX_train.shape[0] accesss the first elemnt of this tuple\\nwhich represnentt the number of sample in the training dataset,.\\nIn ths examole, X_train Shape[0 ] wolud be 60000'"
      ]
     },
     "execution_count": 3,
     "metadata": {},
     "output_type": "execute_result"
    }
   ],
   "source": [
    "X_train = X_train.reshape(X_train.shape[0],-1).astype('float32')/255 \n",
    "\n",
    "''' X_tarin contains 60, 000 image of size 28x28 , then X_train.shape\n",
    "would be(60000, 28, 28)\n",
    "X_train.shape[0] accesss the first elemnt of this tuple\n",
    "which represnentt the number of sample in the training dataset,.\n",
    "In ths examole, X_train Shape[0 ] wolud be 60000'''\n"
   ]
  },
  {
   "cell_type": "code",
   "execution_count": 4,
   "id": "c9d89962",
   "metadata": {},
   "outputs": [],
   "source": [
    "X_test = X_train.reshape(X_test.shape[0] , -1).astype('float32') / 255\n",
    "\n",
    "#define the model\n",
    "def create_model():\n",
    "    model = Sequential([\n",
    "        Dense(128 , activation = 'relu' , input_shape = (784 , )) , \n",
    "        Dense(64 , activation = 'relu'),\n",
    "        Dense(10 , activation = 'softmax')    \n",
    "    ])\n",
    "    return model"
   ]
  },
  {
   "cell_type": "code",
   "execution_count": 5,
   "id": "39f0fad6",
   "metadata": {},
   "outputs": [],
   "source": [
    "#define teh optimzer\n",
    "\n",
    "optimizers={\n",
    "    'SGD': SGD(),\n",
    "    'Adam': Adam(),\n",
    "    'RMSprop':RMSprop(),\n",
    "    'Adagrad': Adagrad()\n",
    "}"
   ]
  },
  {
   "cell_type": "code",
   "execution_count": 6,
   "id": "38a2ab37",
   "metadata": {},
   "outputs": [
    {
     "name": "stdout",
     "output_type": "stream",
     "text": [
      "Training with SGD optimzer...\n",
      "WARNING:tensorflow:From C:\\Users\\suraj\\anaconda3\\lib\\site-packages\\keras\\src\\backend.py:873: The name tf.get_default_graph is deprecated. Please use tf.compat.v1.get_default_graph instead.\n",
      "\n",
      "WARNING:tensorflow:From C:\\Users\\suraj\\anaconda3\\lib\\site-packages\\keras\\src\\utils\\tf_utils.py:492: The name tf.ragged.RaggedTensorValue is deprecated. Please use tf.compat.v1.ragged.RaggedTensorValue instead.\n",
      "\n",
      "WARNING:tensorflow:From C:\\Users\\suraj\\anaconda3\\lib\\site-packages\\keras\\src\\engine\\base_layer_utils.py:384: The name tf.executing_eagerly_outside_functions is deprecated. Please use tf.compat.v1.executing_eagerly_outside_functions instead.\n",
      "\n",
      "Training with Adam optimzer...\n",
      "Training with RMSprop optimzer...\n",
      "Training with Adagrad optimzer...\n"
     ]
    }
   ],
   "source": [
    "# Train model with different optimizers\n",
    "\n",
    "history = {}\n",
    "for optimizer_name , optimizer in optimizers.items():\n",
    "    print(f\"Training with {optimizer_name} optimzer...\")\n",
    "    model = create_model()\n",
    "    model.compile(optimizer = optimizer , loss = 'sparse_categorical_crossentropy' , metrics = ['accuracy'])\n",
    "    history[optimizer_name] = model.fit(X_train ,y_train , epochs = 5 , batch_size = 32 , validation_split = 0.2 , verbose = 0)"
   ]
  },
  {
   "cell_type": "code",
   "execution_count": null,
   "id": "ca653eaf",
   "metadata": {},
   "outputs": [],
   "source": []
  },
  {
   "cell_type": "code",
   "execution_count": null,
   "id": "3df74eb0",
   "metadata": {},
   "outputs": [],
   "source": []
  },
  {
   "cell_type": "code",
   "execution_count": null,
   "id": "85040ce0",
   "metadata": {},
   "outputs": [],
   "source": []
  },
  {
   "cell_type": "code",
   "execution_count": null,
   "id": "701da4e2",
   "metadata": {},
   "outputs": [],
   "source": []
  }
 ],
 "metadata": {
  "kernelspec": {
   "display_name": "Python 3 (ipykernel)",
   "language": "python",
   "name": "python3"
  },
  "language_info": {
   "codemirror_mode": {
    "name": "ipython",
    "version": 3
   },
   "file_extension": ".py",
   "mimetype": "text/x-python",
   "name": "python",
   "nbconvert_exporter": "python",
   "pygments_lexer": "ipython3",
   "version": "3.10.9"
  }
 },
 "nbformat": 4,
 "nbformat_minor": 5
}
