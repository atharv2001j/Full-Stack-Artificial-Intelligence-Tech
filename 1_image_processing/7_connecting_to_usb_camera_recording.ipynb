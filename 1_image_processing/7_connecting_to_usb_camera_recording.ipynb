{
 "cells": [
  {
   "cell_type": "markdown",
   "metadata": {},
   "source": [
    "OpenCV Connecting to a USB Camera or a Laptop Camera\n",
    "\n",
    "OpenCV can automatically connect to your laptop's built in camera or your USB camera if you've installed that specific USB camera drivers. Please keep in mind, its almost impossible for us to help troubleshoot this sort of physical connection on our end, so if you are not able to connect, please check out the troubleshooting tips here:\n",
    "\n",
    "https://github.com/opencv/opencv/issues/8471"
   ]
  },
  {
   "cell_type": "code",
   "execution_count": null,
   "metadata": {},
   "outputs": [],
   "source": [
    "## put this ALL IN one cell\n",
    "#you need to wirte the video relate dcode in one cell\n",
    "import cv2\n",
    "\n",
    "#Connects to your computers default camera\n",
    "cap=cv2.VideoCapture(0)\n",
    "\n",
    "#Automatically grab width and height from video feed\n",
    "#(returns float which we need to convert to integer for later on!)\n",
    "\n",
    "width=int(cap.get(cv2.CAP_PROP_FRAME_WIDTH))\n",
    "height= int(cap.get(cv2.CAP_PROP_FRAME_HEIGHT))\n",
    "\n",
    "\n",
    "while True:\n",
    "    #capture frame- by frame\n",
    "    ret, frame=cap.read()\n",
    "    \n",
    "    #our opertaion on the frame come here\n",
    "    gray=cv2.cvtColor(frame, cv2.COLOR_BGR2GRAY)\n",
    "    \n",
    "    #display the resulting frame\n",
    "    cv2.imshow('frame', gray)\n",
    "    \n",
    "    # this command lets us quit the 'q' button on a keyboard.\n",
    "    #simply pressing X on the window wont work!\n",
    "    \n",
    "    if cv2.waitKey(1) & 0xFF ==ord('q'):\n",
    "        break\n",
    "        \n",
    "#when everything done , relesase the caputer and destory the windows\n",
    "cap.release()\n",
    "cv2.destroyAllWindows()\n"
   ]
  },
  {
   "cell_type": "code",
   "execution_count": null,
   "metadata": {},
   "outputs": [],
   "source": [
    "# channge in the color and make it in the normal code"
   ]
  },
  {
   "cell_type": "code",
   "execution_count": null,
   "metadata": {},
   "outputs": [],
   "source": [
    "## put this ALL IN one cell\n",
    "#you need to wirte the video relate dcode in one cell\n",
    "import cv2\n",
    "\n",
    "#Connects to your computers default camera\n",
    "cap=cv2.VideoCapture(0)\n",
    "\n",
    "#Automatically grab width and height from video feed\n",
    "#(returns float which we need to convert to integer for later on!)\n",
    "\n",
    "width=int(cap.get(cv2.CAP_PROP_FRAME_WIDTH))\n",
    "height= int(cap.get(cv2.CAP_PROP_FRAME_HEIGHT))\n",
    "\n",
    "\n",
    "while True:\n",
    "    #capture frame- by frame\n",
    "    ret, frame=cap.read()\n",
    "    \n",
    "    #our opertaion on the frame come here\n",
    "    #gray=cv2.cvtColor(frame, cv2.COLOR_BGR2GRAY)\n",
    "    \n",
    "    #display the resulting frame\n",
    "    cv2.imshow('frame', frame)\n",
    "    \n",
    "    # this command lets us quit the 'q' button on a keyboard.\n",
    "    #simply pressing X on the window wont work!\n",
    "    \n",
    "    if cv2.waitKey(1) & 0xFF ==ord('q'):\n",
    "        break\n",
    "        \n",
    "#when everything done , relesase the caputer and destory the windows\n",
    "cap.release()\n",
    "cv2.destroyAllWindows()\n"
   ]
  },
  {
   "cell_type": "code",
   "execution_count": null,
   "metadata": {},
   "outputs": [],
   "source": [
    "#wrting the video to storage\n"
   ]
  },
  {
   "cell_type": "code",
   "execution_count": null,
   "metadata": {},
   "outputs": [],
   "source": [
    "import cv2\n",
    "\n",
    "#Connects to your computers default camera\n",
    "cap=cv2.VideoCapture(0)\n",
    "\n",
    "#Automatically grab width and height from video feed\n",
    "#(returns float which we need to convert to integer for later on!)\n",
    "\n",
    "width=int(cap.get(cv2.CAP_PROP_FRAME_WIDTH))\n",
    "height= int(cap.get(cv2.CAP_PROP_FRAME_HEIGHT))\n",
    "\n",
    "#MACOS AND lINux : *'XVID' (macos user may want to try  VIDX as well just in a)\n",
    "#Windows: *'VIDX'\n",
    "#otherwise go into cv2 documentation\n",
    "\n",
    "writer=cv2.VideoWriter(\"C:/Artificial Intelligence/2_Computer_Vision/1_image_processing/student_caputre.mp4\", cv2.VideoWriter_fourcc(*'XVID'), 25,(width, height))\n",
    "\n",
    "##this loop keeps recording until you hit 0 or escape the windows\n",
    "#you need to use some sort of timer , like from time import sleep\n",
    "\n",
    "\n",
    "while True:\n",
    "    #capture frame- by frame\n",
    "    ret, frame=cap.read()\n",
    "        \n",
    "    #write the video\n",
    "    writer.write(frame)\n",
    "    \n",
    "    #display the resulting frame\n",
    "    cv2.imshow('frame', frame)\n",
    "    \n",
    "    # this command lets us quit the 'q' button on a keyboard.\n",
    "    #simply pressing X on the window wont work!\n",
    "    \n",
    "    if cv2.waitKey(1) & 0xFF ==ord('q'):\n",
    "        break\n",
    "        \n",
    "#when everything done , relesase the caputer and destory the windows\n",
    "cap.release()\n",
    "writer.release()\n",
    "cv2.destroyAllWindows()\n"
   ]
  },
  {
   "cell_type": "code",
   "execution_count": null,
   "metadata": {},
   "outputs": [],
   "source": []
  }
 ],
 "metadata": {
  "kernelspec": {
   "display_name": "Python 3",
   "language": "python",
   "name": "python3"
  },
  "language_info": {
   "codemirror_mode": {
    "name": "ipython",
    "version": 3
   },
   "file_extension": ".py",
   "mimetype": "text/x-python",
   "name": "python",
   "nbconvert_exporter": "python",
   "pygments_lexer": "ipython3",
   "version": "3.6.6"
  }
 },
 "nbformat": 4,
 "nbformat_minor": 2
}
