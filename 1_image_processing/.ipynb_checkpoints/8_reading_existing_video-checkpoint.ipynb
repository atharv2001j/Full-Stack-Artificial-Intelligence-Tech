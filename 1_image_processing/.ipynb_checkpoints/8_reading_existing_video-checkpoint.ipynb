{
 "cells": [
  {
   "cell_type": "code",
   "execution_count": 1,
   "metadata": {},
   "outputs": [
    {
     "name": "stdout",
     "output_type": "stream",
     "text": [
      "Error opening the video file . pleases double check you file path frame \n"
     ]
    }
   ],
   "source": [
    "import cv2\n",
    "import time\n",
    "\n",
    "#Some command s function as streaming , its just now we oass in the file path\n",
    "cap=cv2.VideoCapture(\"C:/Artificial Intelligence/2_Computer_Vision/1_image_processing/student_caputre.mp4\")\n",
    "\n",
    "#frames per seconds for video\n",
    "fps=25\n",
    "\n",
    "#always good idea to check if the video was acutally there\n",
    "#if  you get an error at this step , triple check your file path!!!\n",
    "\n",
    "if  not cap.isOpened()==False:\n",
    "    print(\"Error opening the video file . pleases double check you file path frame \")\n",
    "    exit()\n",
    "    \n",
    "    \n",
    "\n",
    "#while the video is opened\n",
    "while cap.isOpened():\n",
    "    #capture frame- by frame\n",
    "    ret, frame=cap.read()\n",
    "    \n",
    "    #If we got frames , chow them\n",
    "    if ret:\n",
    "        #display the resulting frame at the same frame rate rating\n",
    "        time.sleep(1/fps)\n",
    "        cv2.imshow('frame', frame)\n",
    "    \n",
    "       #press the q to exist\n",
    "        if cv2.waitKey(25) & 0xFF ==ord('q'):\n",
    "               break\n",
    "        #or automatically break this whole loop if the video is over\n",
    "    else:\n",
    "        break\n",
    "            \n",
    "            \n",
    "#when everything done , relesase the caputer and destory the windows\n",
    "cap.release()\n",
    "#close all frames\n",
    "cv2.destroyAllWindows()\n"
   ]
  },
  {
   "cell_type": "code",
   "execution_count": null,
   "metadata": {},
   "outputs": [],
   "source": [
    "\n",
    "#this is another code without error\n",
    "import cv2\n",
    "import time\n",
    "\n",
    "# Same command function as streaming, it's just now we pass the file path\n",
    "cap = cv2.VideoCapture(\"C:/Artificial Intelligence/2_Computer_Vision/1_image_processing/student_caputre.mp4\")\n",
    "\n",
    "# Frame per second for video\n",
    "fps = 25\n",
    "\n",
    "# Always a good idea to check if the video was actually there\n",
    "if not cap.isOpened():\n",
    "    print(\"Error: Could not open video file.\")\n",
    "    exit()\n",
    "\n",
    "# While video is opened\n",
    "while cap.isOpened():\n",
    "    # Capture frame by frame\n",
    "    ret, frame = cap.read()\n",
    "    \n",
    "    if ret:\n",
    "        time.sleep(1/fps)\n",
    "        cv2.imshow('frame', frame)\n",
    "        \n",
    "        # Press 'q' to quit\n",
    "        if cv2.waitKey(25) & 0xFF == ord('q'):\n",
    "            break\n",
    "    else:\n",
    "        break\n",
    "\n",
    "# Release the video capture object\n",
    "cap.release()\n",
    "cv2.destroyAllWindows()"
   ]
  },
  {
   "cell_type": "code",
   "execution_count": null,
   "metadata": {},
   "outputs": [],
   "source": []
  }
 ],
 "metadata": {
  "kernelspec": {
   "display_name": "Python 3",
   "language": "python",
   "name": "python3"
  },
  "language_info": {
   "codemirror_mode": {
    "name": "ipython",
    "version": 3
   },
   "file_extension": ".py",
   "mimetype": "text/x-python",
   "name": "python",
   "nbconvert_exporter": "python",
   "pygments_lexer": "ipython3",
   "version": "3.6.6"
  }
 },
 "nbformat": 4,
 "nbformat_minor": 2
}
